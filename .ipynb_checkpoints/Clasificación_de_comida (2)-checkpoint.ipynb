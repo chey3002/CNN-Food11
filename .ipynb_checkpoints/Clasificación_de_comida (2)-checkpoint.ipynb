{
 "cells": [
  {
   "cell_type": "code",
   "execution_count": 0,
   "metadata": {
    "colab": {},
    "colab_type": "code",
    "id": "GhDcnkTrRRHH"
   },
   "outputs": [],
   "source": [
    "from google.colab import drive\n",
    "drive.mount('/content/drive')"
   ]
  },
  {
   "cell_type": "code",
   "execution_count": 0,
   "metadata": {
    "colab": {},
    "colab_type": "code",
    "id": "yBPXHKx7mi37"
   },
   "outputs": [],
   "source": []
  },
  {
   "cell_type": "markdown",
   "metadata": {
    "colab_type": "text",
    "id": "57GeJNJ6vxeK"
   },
   "source": [
    "!git clone https://github.com/puigalex/AMP-Tech.git"
   ]
  },
  {
   "cell_type": "code",
   "execution_count": 0,
   "metadata": {
    "colab": {},
    "colab_type": "code",
    "id": "yx2njtztw8fz"
   },
   "outputs": [],
   "source": [
    "%cd /content/drive/My Drive/obj_clasi"
   ]
  },
  {
   "cell_type": "code",
   "execution_count": 0,
   "metadata": {
    "colab": {
     "base_uri": "https://localhost:8080/",
     "height": 34
    },
    "colab_type": "code",
    "id": "piea3xdQS_uq",
    "outputId": "9bd7f713-350d-4b2e-918b-f165c5d26013"
   },
   "outputs": [
    {
     "name": "stdout",
     "output_type": "stream",
     "text": [
      "Clasificación_de_comida.ipynb  clasificación_de_comida.py  data  evaluation\n"
     ]
    }
   ],
   "source": [
    "!ls"
   ]
  },
  {
   "cell_type": "code",
   "execution_count": 0,
   "metadata": {
    "colab": {},
    "colab_type": "code",
    "id": "jUiL3Mpy96NP"
   },
   "outputs": [],
   "source": [
    "from google.colab import files"
   ]
  },
  {
   "cell_type": "markdown",
   "metadata": {
    "colab_type": "text",
    "id": "3QfpVmMt7Jm_"
   },
   "source": [
    "Entrenar"
   ]
  },
  {
   "cell_type": "code",
   "execution_count": 0,
   "metadata": {
    "colab": {},
    "colab_type": "code",
    "id": "qUp9B4SFzkF9"
   },
   "outputs": [],
   "source": []
  },
  {
   "cell_type": "markdown",
   "metadata": {
    "colab_type": "text",
    "id": "j5cxUTsgTTip"
   },
   "source": [
    "import sys\n",
    "import os\n",
    "from tensorflow.python.keras.preprocessing.image import ImageDataGenerator\n",
    "from tensorflow.python.keras import optimizers\n",
    "from tensorflow.python.keras.models import Sequential\n",
    "from tensorflow.python.keras.layers import Dropout, Flatten, Dense, Activation\n",
    "from tensorflow.python.keras.layers import  Convolution2D, MaxPooling2D\n",
    "from tensorflow.python.keras import backend as K\n",
    "K.clear_session()\n",
    "data_entrenamiento = './data/entrenamiento'\n",
    "data_validacion = './data/validacion'\n",
    "\"\"\"\n",
    "Parametros\n",
    "\"\"\"\n",
    "epocas=20 #Numero de iteraciones sobre el set de datos durante el entrnamiento\n",
    "longitud, altura = 150, 150 #tamaño de imagen para el entrenamiento\n",
    "batch_size = 32 #numero de imagenes por paso\n",
    "pasos = 1000 #numero de veces que se procesara la información en cada éppoca\n",
    "validation_steps = 300 #Al final de las épocas se realizara una validacion de 300 pasos\n",
    "filtrosConv1 = 32 #Numero de filtros aplicados por combolución (Profundidad)\n",
    "filtrosConv2 = 64 #\n",
    "tamano_filtro1 = (3, 3) #tamaño del filtro usado en cada combolución\n",
    "tamano_filtro2 = (2, 2)\n",
    "tamano_pool = (2, 2) #tamaño del filtro de max pooling\n",
    "clases = 3 #numero de clases\n",
    "lr = 0.0004 #coeficiente de aprendizaje\n",
    "\n",
    "\n",
    "##Preparamos nuestras imagenes\n",
    "#preprocesamiento\n",
    "entrenamiento_datagen = ImageDataGenerator(\n",
    "    rescale=1. / 255, #reescalar las imágenes rango de pixeles de 0 a 1\n",
    "    shear_range=0.2, #Generar imagenes inclinadas\n",
    "    zoom_range=0.2,  #posibilidad de hacer zoom\n",
    "    horizontal_flip=True)#invertir imagen \n",
    "test_datagen = ImageDataGenerator(rescale=1. / 255)\n",
    "\n",
    "entrenamiento_generador = entrenamiento_datagen.flow_from_directory(\n",
    "    data_entrenamiento,\n",
    "    target_size=(altura, longitud),\n",
    "    batch_size=batch_size,\n",
    "    class_mode='categorical')\n",
    "\n",
    "validacion_generador = test_datagen.flow_from_directory(\n",
    "    data_validacion,\n",
    "    target_size=(altura, longitud),\n",
    "    batch_size=batch_size,\n",
    "    class_mode='categorical')\n",
    "#Red neuronal combolucional\n",
    "cnn = Sequential()#red secuencial\n",
    "cnn.add(Convolution2D(filtrosConv1, tamano_filtro1, padding =\"same\", input_shape=(longitud, altura, 3), activation='relu')) #creacion de la primera capa \n",
    "cnn.add(MaxPooling2D(pool_size=tamano_pool))#capa de pooling\n",
    "\n",
    "cnn.add(Convolution2D(filtrosConv2, tamano_filtro2, padding =\"same\"))#segunda caoa combolucional\n",
    "cnn.add(MaxPooling2D(pool_size=tamano_pool))#segunda capa de pooling\n",
    "#inicia la clasificación\n",
    "cnn.add(Flatten())#transformar la información a una sola dimencion \n",
    "cnn.add(Dense(256, activation='relu'))#256 neuronas, con activación relu\n",
    "cnn.add(Dropout(0.5))#Se apagaran el 50% de las neuronas para evitar sobreajuste, para adaptarse a informacion nueva\n",
    "cnn.add(Dense(clases, activation='softmax'))#realiza la clasificación\n",
    "\n",
    "cnn.compile(loss='categorical_crossentropy',#parametos que se utilizaran para el algoritmo\n",
    "            optimizer=optimizers.Adam(lr=lr),#optimizador adam\n",
    "            metrics=['accuracy'])#metrica utilizada\n",
    "\n",
    "#entrenamiento\n",
    "cnn.fit_generator(\n",
    "    entrenamiento_generador,#imagenes de entrenamiento\n",
    "    steps_per_epoch=pasos,#numero de pasos\n",
    "    epochs=epocas,#numero de pasos\n",
    "    validation_data=validacion_generador,#imagenes de validazion\n",
    "    validation_steps=validation_steps)#pasos de validación\n",
    "#guardar modelo como archivo\n",
    "target_dir = './modelo/'\n",
    "if not os.path.exists(target_dir):\n",
    "  os.mkdir(target_dir)\n",
    "cnn.save('./modelo/modelo.h5')\n",
    "cnn.save_weights('./modelo/pesos.h5')"
   ]
  },
  {
   "cell_type": "markdown",
   "metadata": {
    "colab_type": "text",
    "id": "1y6LJBXQ7PcV"
   },
   "source": [
    "predict"
   ]
  },
  {
   "cell_type": "code",
   "execution_count": 0,
   "metadata": {
    "colab": {},
    "colab_type": "code",
    "id": "yVMYaQFi7Scf"
   },
   "outputs": [],
   "source": [
    "\n"
   ]
  },
  {
   "cell_type": "markdown",
   "metadata": {
    "colab_type": "text",
    "id": "aqqAGaTSTaU3"
   },
   "source": [
    "import numpy as np\n",
    "import keras\n",
    "from keras.preprocessing.image import load_img, img_to_array\n",
    "from keras.models import load_model\n",
    "import tensorflow as tf \n",
    "longitud, altura = 150, 150#tamaño de la imagen\n",
    "modelo = './modelo/modelo.h5'#direccion del modelo\n",
    "pesos_modelo = './modelo/pesos.h5'#direccion de los pesos\n",
    "cnn = tf.keras.models.load_model(modelo)#cargar modelo\n",
    "cnn.load_weights(pesos_modelo)#cargar pesos\n",
    "#funcion de prediccion\n",
    "def predict(file):\n",
    "  x = tf.keras.preprocessing.image.load_img(file, target_size=(longitud, altura))#cargar la imagen\n",
    "  x = tf.keras.preprocessing.image.img_to_array(x)#tansformar imagen a arreglo\n",
    "  x = np.expand_dims(x, axis=0)#en el eje 0 se agrega una dimención extra para procesar la información sin problema\n",
    "  array = cnn.predict(x)#se llama a la red para realizar la predicción\n",
    "  result = array[0]#obtenemos el resultado\n",
    "  answer = np.argmax(result)#nos entrega el indice del valor mas alto\n",
    "  #clasificación del resultado\n",
    "  if answer == 0:\n",
    "    print(\"pred: Perro\")\n",
    "  elif answer == 1:\n",
    "    print(\"pred: Gato\")\n",
    "  elif answer == 2:\n",
    "    print(\"pred: Gorila\")\n",
    "\n",
    "  return answer"
   ]
  },
  {
   "cell_type": "code",
   "execution_count": 0,
   "metadata": {
    "colab": {},
    "colab_type": "code",
    "id": "jnXQMFaIZtee"
   },
   "outputs": [],
   "source": []
  },
  {
   "cell_type": "markdown",
   "metadata": {
    "colab_type": "text",
    "id": "jzrKakbzTckC"
   },
   "source": [
    "print(\"cat\")\n",
    "file='./test/cat.5000.jpg'\n",
    "predict(file)#ingresar direccion de la imagen\n",
    "print(\"dog\")\n",
    "file='./test/dog.5000.jpg'\n",
    "predict(file)#ingresar direccion de la imagen\n",
    "print(\"gorilla\")\n",
    "file='./test/8.jpeg'\n",
    "predict(file)#ingresar direccion de la imagen"
   ]
  },
  {
   "cell_type": "markdown",
   "metadata": {
    "colab_type": "text",
    "id": "0tu_0VZ4r_tW"
   },
   "source": [
    "New"
   ]
  },
  {
   "cell_type": "code",
   "execution_count": 1,
   "metadata": {
    "colab": {
     "base_uri": "https://localhost:8080/",
     "height": 63
    },
    "colab_type": "code",
    "id": "Vg0gqvQHsCf-",
    "outputId": "701700c5-a8e5-478d-98bd-d71196952fef"
   },
   "outputs": [],
   "source": [
    "import sys\n",
    "import os\n",
    "from tensorflow.python.keras.preprocessing.image import ImageDataGenerator\n",
    "from tensorflow.python.keras import optimizers\n",
    "from tensorflow.python.keras.models import Sequential\n",
    "from tensorflow.python.keras.layers import Dropout, Flatten, Dense, Activation\n",
    "from tensorflow.python.keras.layers import  Convolution2D, MaxPooling2D\n",
    "from tensorflow.python.keras import backend as K\n",
    "from tensorflow.python.keras import applications"
   ]
  },
  {
   "cell_type": "code",
   "execution_count": null,
   "metadata": {
    "colab": {
     "base_uri": "https://localhost:8080/",
     "height": 90
    },
    "colab_type": "code",
    "id": "zbW2suh3sGdD",
    "outputId": "b11705bd-d23a-45b4-9405-6f84b33211ec"
   },
   "outputs": [],
   "source": [
    "vgg=applications.vgg16.VGG16()"
   ]
  },
  {
   "cell_type": "code",
   "execution_count": null,
   "metadata": {
    "colab": {
     "base_uri": "https://localhost:8080/",
     "height": 976
    },
    "colab_type": "code",
    "id": "cSMvVhLRsJji",
    "outputId": "a97060a0-0236-4670-fb3d-e6b8078dc9b8"
   },
   "outputs": [],
   "source": [
    "vgg.summary()"
   ]
  },
  {
   "cell_type": "code",
   "execution_count": null,
   "metadata": {
    "colab": {},
    "colab_type": "code",
    "id": "BPCQEBGRsNHD"
   },
   "outputs": [],
   "source": [
    "cnn=Sequential()\n",
    "for capa in vgg.layers:\n",
    "    cnn.add(capa)"
   ]
  },
  {
   "cell_type": "code",
   "execution_count": null,
   "metadata": {
    "colab": {
     "base_uri": "https://localhost:8080/",
     "height": 941
    },
    "colab_type": "code",
    "id": "OSU1cbgbsVDS",
    "outputId": "24560ec9-469e-44a2-da0f-a3fe0a893667"
   },
   "outputs": [],
   "source": [
    "cnn.summary()"
   ]
  },
  {
   "cell_type": "code",
   "execution_count": null,
   "metadata": {
    "colab": {},
    "colab_type": "code",
    "id": "0xRPYlo_sXVZ"
   },
   "outputs": [],
   "source": [
    "cnn.pop()"
   ]
  },
  {
   "cell_type": "code",
   "execution_count": null,
   "metadata": {
    "colab": {},
    "colab_type": "code",
    "id": "7TzQCoMnsbDt"
   },
   "outputs": [],
   "source": [
    "for layer in cnn.layers:\n",
    "    layer.trainable=False"
   ]
  },
  {
   "cell_type": "code",
   "execution_count": null,
   "metadata": {
    "colab": {},
    "colab_type": "code",
    "id": "7NrHFW4WsihJ"
   },
   "outputs": [],
   "source": [
    "cnn.add(Dense(3,activation='softmax'))"
   ]
  },
  {
   "cell_type": "code",
   "execution_count": null,
   "metadata": {
    "colab": {
     "base_uri": "https://localhost:8080/",
     "height": 941
    },
    "colab_type": "code",
    "id": "Bo2-kmLoskSD",
    "outputId": "a0e92d95-e3bd-465a-da69-88fe475709eb"
   },
   "outputs": [],
   "source": [
    "cnn.summary()"
   ]
  },
  {
   "cell_type": "code",
   "execution_count": null,
   "metadata": {
    "colab": {},
    "colab_type": "code",
    "id": "ZB_XF5UaBCSl"
   },
   "outputs": [],
   "source": []
  },
  {
   "cell_type": "code",
   "execution_count": null,
   "metadata": {
    "colab": {},
    "colab_type": "code",
    "id": "Y8KxWFDTsmI9"
   },
   "outputs": [],
   "source": [
    "def modelo():\n",
    "    vgg=applications.vgg16.VGG16()\n",
    "    cnn=Sequential()\n",
    "    for capa in vgg.layers:\n",
    "            cnn.add(capa)\n",
    "    cnn.layers.pop()\n",
    "    for layer in cnn.layers:\n",
    "            layer.trainable=False\n",
    "    cnn.add(Dense(11,activation='softmax'))\n",
    "    \n",
    "    return cnn"
   ]
  },
  {
   "cell_type": "code",
   "execution_count": null,
   "metadata": {
    "colab": {
     "base_uri": "https://localhost:8080/",
     "height": 214
    },
    "colab_type": "code",
    "id": "ajUL2JTXspn7",
    "outputId": "388495de-fe31-418b-a62f-000a6f38062d"
   },
   "outputs": [],
   "source": [
    "K.clear_session()\n",
    "\n",
    "data_entrenamiento = './data/entrenamiento'\n",
    "data_validacion = './data/validacion'\n",
    "\n",
    "\n",
    "epocas=20\n",
    "longitud, altura = 224, 224\n",
    "batch_size = 32\n",
    "pasos = 2500\n",
    "validation_steps = 300\n",
    "filtrosConv1 = 32\n",
    "filtrosConv2 = 64\n",
    "tamano_filtro1 = (3, 3)\n",
    "tamano_filtro2 = (2, 2)\n",
    "tamano_pool = (2, 2)\n",
    "clases = 20\n",
    "lr = 0.0004\n",
    "\n",
    "\n",
    "##Preparamos nuestras imagenes\n",
    "\n",
    "entrenamiento_datagen = ImageDataGenerator(\n",
    "    rescale=1. / 255,\n",
    "    shear_range=0.2,\n",
    "    zoom_range=0.2,\n",
    "    horizontal_flip=True)\n",
    "\n",
    "test_datagen = ImageDataGenerator(rescale=1. / 255)\n",
    "\n",
    "entrenamiento_generador = entrenamiento_datagen.flow_from_directory(\n",
    "    data_entrenamiento,\n",
    "    target_size=(altura, longitud),\n",
    "    batch_size=batch_size,\n",
    "    class_mode='categorical')\n",
    "\n",
    "validacion_generador = test_datagen.flow_from_directory(\n",
    "    data_validacion,\n",
    "    target_size=(altura, longitud),\n",
    "    batch_size=batch_size,\n",
    "    class_mode='categorical')\n",
    "\n",
    "##TODO ESTO ES SUSTITUIDO POR LA FUNCION QUE CREA LA RED VGG16\n",
    "'''cnn = Sequential()\n",
    "cnn.add(Convolution2D(filtrosConv1, tamano_filtro1, padding =\"same\", input_shape=(longitud, altura, 3), activation='relu'))\n",
    "cnn.add(MaxPooling2D(pool_size=tamano_pool))\n",
    "\n",
    "cnn.add(Convolution2D(filtrosConv2, tamano_filtro2, padding =\"same\"))\n",
    "cnn.add(MaxPooling2D(pool_size=tamano_pool))\n",
    "\n",
    "cnn.add(Flatten())\n",
    "cnn.add(Dense(256, activation='relu'))\n",
    "cnn.add(Dropout(0.5))\n",
    "cnn.add(Dense(clases, activation='softmax'))\n",
    "'''\n",
    "\n",
    "\n",
    "##CREAR LA RED VGG16\n",
    "\n",
    "cnn=modelo()\n",
    "\n",
    "cnn.compile(loss='categorical_crossentropy',\n",
    "            optimizer=optimizers.Adam(lr=lr),\n",
    "            metrics=['accuracy'])\n",
    "\n",
    "\n",
    "histoty=cnn.fit_generator(\n",
    "    entrenamiento_generador,\n",
    "    steps_per_epoch=pasos,\n",
    "    epochs=epocas,\n",
    "    validation_data=validacion_generador,\n",
    "    validation_steps=validation_steps)\n",
    "\n",
    "target_dir = './modelo/'\n",
    "if not os.path.exists(target_dir):\n",
    "  os.mkdir(target_dir)\n",
    "cnn.save('./modelo/modelo.h5')\n",
    "cnn.save_weights('./modelo/pesos.h5')"
   ]
  },
  {
   "cell_type": "code",
   "execution_count": 0,
   "metadata": {
    "colab": {},
    "colab_type": "code",
    "id": "BSek6R86C1Oc"
   },
   "outputs": [],
   "source": [
    "histoty"
   ]
  },
  {
   "cell_type": "code",
   "execution_count": 0,
   "metadata": {
    "colab": {},
    "colab_type": "code",
    "id": "86i6AD4S19df"
   },
   "outputs": [],
   "source": [
    "!pip install -U matplotlib\n",
    "import matplotlib.pyplot as plt\n",
    "import numpy as np"
   ]
  },
  {
   "cell_type": "code",
   "execution_count": 0,
   "metadata": {
    "colab": {},
    "colab_type": "code",
    "id": "vuIoCm1cw6lZ"
   },
   "outputs": [],
   "source": [
    "plt.figure(0)  \n",
    "plt.plot(histoty.history['acc'],'r')  \n",
    "plt.plot(histoty.history['val_acc'],'g')  \n",
    "plt.xticks(np.arange(0, 21, 2.0))  \n",
    "plt.rcParams['figure.figsize'] = (8, 6)  \n",
    "plt.xlabel(\"Num of Epochs\")  \n",
    "plt.ylabel(\"Accuracy\")  \n",
    "plt.title(\"Training Accuracy vs Validation Accuracy\")  \n",
    "plt.legend(['train','validation'])\n",
    "\n",
    "plt.figure(1)  \n",
    "plt.plot(histoty.history['loss'],'r')  \n",
    "plt.plot(histoty.history['val_loss'],'g')  \n",
    "plt.xticks(np.arange(0, 21, 2.0))  \n",
    "plt.rcParams['figure.figsize'] = (8, 6)  \n",
    "plt.xlabel(\"Num of Epochs\")  \n",
    "plt.ylabel(\"Loss\")  \n",
    "plt.title(\"Training Loss vs Validation Loss\")  \n",
    "plt.legend(['train','validation'])\n",
    "\n",
    "plt.show()  "
   ]
  },
  {
   "cell_type": "code",
   "execution_count": 0,
   "metadata": {
    "colab": {},
    "colab_type": "code",
    "id": "l8l8an4ivhIf"
   },
   "outputs": [],
   "source": [
    "\n",
    "import keras\n",
    "from keras.preprocessing.image import load_img, img_to_array\n",
    "from keras.models import load_model\n",
    "import tensorflow as tf \n",
    "longitud, altura = 224, 224#tamaño de la imagen\n",
    "modelo = './modelo/modelo.h5'#direccion del modelo\n",
    "pesos_modelo = './modelo/pesos.h5'#direccion de los pesos\n",
    "cnn = tf.keras.models.load_model(modelo)#cargar modelo\n",
    "cnn.load_weights(pesos_modelo)#cargar pesos\n",
    "#funcion de prediccion\n",
    "def predict(file):\n",
    "  x = tf.keras.preprocessing.image.load_img(file, target_size=(longitud, altura))#cargar la imagen\n",
    "  x = tf.keras.preprocessing.image.img_to_array(x)#tansformar imagen a arreglo\n",
    "  x = np.expand_dims(x, axis=0)#en el eje 0 se agrega una dimención extra para procesar la información sin problema\n",
    "  array = cnn.predict(x)#se llama a la red para realizar la predicción\n",
    "  result = array[0]#obtenemos el resultado\n",
    "  answer = np.argmax(result)#nos entrega el indice del valor mas alto\n",
    "  #clasificación del resultado\n",
    "  if answer == 0:\n",
    "    print(file+\" pred: 0\")\n",
    "  elif answer == 1:\n",
    "    print(file+\" pred: 1\")\n",
    "  elif answer == 2:\n",
    "    print(file+\" pred: 2\")\n",
    "  elif answer == 3:\n",
    "    print(file+\" pred: 3\")\n",
    "  elif answer == 4:\n",
    "    print(file+\" pred: 4\")\n",
    "  elif answer == 5:\n",
    "    print(file+\" pred: 5\")\n",
    "  elif answer == 6:\n",
    "    print(file+\" pred: 6\")\n",
    "  elif answer == 7:\n",
    "    print(file+\" pred: 7\")\n",
    "  elif answer == 8:\n",
    "    print(file+\" pred: 8\")\n",
    "  elif answer == 9:\n",
    "    print(file+\" pred: 9\")\n",
    "  elif answer == 10:\n",
    "    print(file+\" pred: 10\")\n",
    "  return answer"
   ]
  },
  {
   "cell_type": "code",
   "execution_count": 0,
   "metadata": {
    "colab": {},
    "colab_type": "code",
    "id": "64oZbuBUtaZm"
   },
   "outputs": [],
   "source": [
    "from google.colab import files"
   ]
  },
  {
   "cell_type": "code",
   "execution_count": 0,
   "metadata": {
    "colab": {},
    "colab_type": "code",
    "id": "78nAgkexUHEY"
   },
   "outputs": [],
   "source": []
  },
  {
   "cell_type": "code",
   "execution_count": 0,
   "metadata": {
    "colab": {},
    "colab_type": "code",
    "id": "Q03VSWI9thvM"
   },
   "outputs": [],
   "source": [
    "from os import scandir, getcwd\n",
    "def ls(ruta = getcwd()):\n",
    "    return [arch.name for arch in scandir(ruta) if arch.is_file()]"
   ]
  },
  {
   "cell_type": "code",
   "execution_count": 0,
   "metadata": {
    "colab": {},
    "colab_type": "code",
    "id": "JFJ6S9SyuqfC"
   },
   "outputs": [],
   "source": [
    "lista_arq = ls('./data/validacion/pan')   # no especificar ruta para tomar el directorio actual\n",
    "cont0=0\n",
    "cont1=0\n",
    "cont2=0\n",
    "cont3=0\n",
    "cont4=0\n",
    "cont5=0\n",
    "cont6=0\n",
    "cont7=0\n",
    "cont8=0\n",
    "cont9=0\n",
    "cont10=0\n",
    "for i in lista_arq:\n",
    "   p=predict('./data/validacion/pan/'+i)\n",
    "   if(p==0):\n",
    "     cont0=cont0+1\n",
    "   if(p==1):\n",
    "     cont1=cont1+1\n",
    "   if(p==2):\n",
    "     cont2=cont2+1\n",
    "   if(p==3):\n",
    "     cont3=cont3+1\n",
    "   if(p==4):\n",
    "     cont4=cont4+1\n",
    "   if(p==5):\n",
    "     cont5=cont5+1\n",
    "   if(p==6):\n",
    "     cont6=cont6+1\n",
    "   if(p==7):\n",
    "     cont7=cont7+1\n",
    "   if(p==8):\n",
    "     cont8=cont8+1\n",
    "   if(p==9):\n",
    "     cont9=cont9+1\n",
    "   if(p==10):\n",
    "     cont10=cont10+1\n",
    "print(100*cont0/len(lista_arq))\n",
    "print(100*cont1/len(lista_arq))\n",
    "print(100*cont2/len(lista_arq))\n",
    "print(100*cont3/len(lista_arq))\n",
    "print(100*cont4/len(lista_arq))\n",
    "print(100*cont5/len(lista_arq))\n",
    "print(100*cont6/len(lista_arq))\n",
    "print(100*cont7/len(lista_arq))\n",
    "print(100*cont8/len(lista_arq))\n",
    "print(100*cont9/len(lista_arq))\n",
    "print(100*cont10/len(lista_arq))"
   ]
  },
  {
   "cell_type": "code",
   "execution_count": 0,
   "metadata": {
    "colab": {},
    "colab_type": "code",
    "id": "R51N-Kvkut8N"
   },
   "outputs": [],
   "source": [
    "lista_arq = ls('./data/validacion/lacteo')   # no especificar ruta para tomar el directorio actual\n",
    "cont0=0\n",
    "cont1=0\n",
    "cont2=0\n",
    "cont3=0\n",
    "cont4=0\n",
    "cont5=0\n",
    "cont6=0\n",
    "cont7=0\n",
    "cont8=0\n",
    "cont9=0\n",
    "cont10=0\n",
    "for i in lista_arq:\n",
    "   p=predict('./data/validacion/lacteo/'+i)\n",
    "   if(p==0):\n",
    "     cont0=cont0+1\n",
    "   if(p==1):\n",
    "     cont1=cont1+1\n",
    "   if(p==2):\n",
    "     cont2=cont2+1\n",
    "   if(p==3):\n",
    "     cont3=cont3+1\n",
    "   if(p==4):\n",
    "     cont4=cont4+1\n",
    "   if(p==5):\n",
    "     cont5=cont5+1\n",
    "   if(p==6):\n",
    "     cont6=cont6+1\n",
    "   if(p==7):\n",
    "     cont7=cont7+1\n",
    "   if(p==8):\n",
    "     cont8=cont8+1\n",
    "   if(p==9):\n",
    "     cont9=cont9+1\n",
    "   if(p==10):\n",
    "     cont10=cont10+1\n",
    "print(100*cont0/len(lista_arq))\n",
    "print(100*cont1/len(lista_arq))\n",
    "print(100*cont2/len(lista_arq))\n",
    "print(100*cont3/len(lista_arq))\n",
    "print(100*cont4/len(lista_arq))\n",
    "print(100*cont5/len(lista_arq))\n",
    "print(100*cont6/len(lista_arq))\n",
    "print(100*cont7/len(lista_arq))\n",
    "print(100*cont8/len(lista_arq))\n",
    "print(100*cont9/len(lista_arq))\n",
    "print(100*cont10/len(lista_arq))\n"
   ]
  },
  {
   "cell_type": "code",
   "execution_count": 0,
   "metadata": {
    "colab": {},
    "colab_type": "code",
    "id": "_2ZndKKav-gf"
   },
   "outputs": [],
   "source": [
    "lista_arq = ls('./data/validacion/postre')   # no especificar ruta para tomar el directorio actual\n",
    "cont0=0\n",
    "cont1=0\n",
    "cont2=0\n",
    "cont3=0\n",
    "cont4=0\n",
    "cont5=0\n",
    "cont6=0\n",
    "cont7=0\n",
    "cont8=0\n",
    "cont9=0\n",
    "cont10=0\n",
    "for i in lista_arq:\n",
    "   p=predict('./data/validacion/postre/'+i)\n",
    "   if(p==0):\n",
    "     cont0=cont0+1\n",
    "   if(p==1):\n",
    "     cont1=cont1+1\n",
    "   if(p==2):\n",
    "     cont2=cont2+1\n",
    "   if(p==3):\n",
    "     cont3=cont3+1\n",
    "   if(p==4):\n",
    "     cont4=cont4+1\n",
    "   if(p==5):\n",
    "     cont5=cont5+1\n",
    "   if(p==6):\n",
    "     cont6=cont6+1\n",
    "   if(p==7):\n",
    "     cont7=cont7+1\n",
    "   if(p==8):\n",
    "     cont8=cont8+1\n",
    "   if(p==9):\n",
    "     cont9=cont9+1\n",
    "   if(p==10):\n",
    "     cont10=cont10+1\n",
    "print(100*cont0/len(lista_arq))\n",
    "print(100*cont1/len(lista_arq))\n",
    "print(100*cont2/len(lista_arq))\n",
    "print(100*cont3/len(lista_arq))\n",
    "print(100*cont4/len(lista_arq))\n",
    "print(100*cont5/len(lista_arq))\n",
    "print(100*cont6/len(lista_arq))\n",
    "print(100*cont7/len(lista_arq))\n",
    "print(100*cont8/len(lista_arq))\n",
    "print(100*cont9/len(lista_arq))\n",
    "print(100*cont10/len(lista_arq))"
   ]
  },
  {
   "cell_type": "code",
   "execution_count": 0,
   "metadata": {
    "colab": {},
    "colab_type": "code",
    "id": "X_5ht8ymOaVN"
   },
   "outputs": [],
   "source": [
    "lista_arq = ls('./data/validacion/huevos')   # no especificar ruta para tomar el directorio actual\n",
    "cont0=0\n",
    "cont1=0\n",
    "cont2=0\n",
    "cont3=0\n",
    "cont4=0\n",
    "cont5=0\n",
    "cont6=0\n",
    "cont7=0\n",
    "cont8=0\n",
    "cont9=0\n",
    "cont10=0\n",
    "for i in lista_arq:\n",
    "   p=predict('./data/validacion/huevos/'+i)\n",
    "   if(p==0):\n",
    "     cont0=cont0+1\n",
    "   if(p==1):\n",
    "     cont1=cont1+1\n",
    "   if(p==2):\n",
    "     cont2=cont2+1\n",
    "   if(p==3):\n",
    "     cont3=cont3+1\n",
    "   if(p==4):\n",
    "     cont4=cont4+1\n",
    "   if(p==5):\n",
    "     cont5=cont5+1\n",
    "   if(p==6):\n",
    "     cont6=cont6+1\n",
    "   if(p==7):\n",
    "     cont7=cont7+1\n",
    "   if(p==8):\n",
    "     cont8=cont8+1\n",
    "   if(p==9):\n",
    "     cont9=cont9+1\n",
    "   if(p==10):\n",
    "     cont10=cont10+1\n",
    "print(100*cont0/len(lista_arq))\n",
    "print(100*cont1/len(lista_arq))\n",
    "print(100*cont2/len(lista_arq))\n",
    "print(100*cont3/len(lista_arq))\n",
    "print(100*cont4/len(lista_arq))\n",
    "print(100*cont5/len(lista_arq))\n",
    "print(100*cont6/len(lista_arq))\n",
    "print(100*cont7/len(lista_arq))\n",
    "print(100*cont8/len(lista_arq))\n",
    "print(100*cont9/len(lista_arq))\n",
    "print(100*cont10/len(lista_arq))"
   ]
  },
  {
   "cell_type": "code",
   "execution_count": 0,
   "metadata": {
    "colab": {},
    "colab_type": "code",
    "id": "j4uxJnHIW1UU"
   },
   "outputs": [],
   "source": [
    "lista_arq = ls('./data/validacion/fritura')   # no especificar ruta para tomar el directorio actual\n",
    "cont0=0\n",
    "cont1=0\n",
    "cont2=0\n",
    "cont3=0\n",
    "cont4=0\n",
    "cont5=0\n",
    "cont6=0\n",
    "cont7=0\n",
    "cont8=0\n",
    "cont9=0\n",
    "cont10=0\n",
    "for i in lista_arq:\n",
    "   p=predict('./data/validacion/fritura/'+i)\n",
    "   if(p==0):\n",
    "     cont0=cont0+1\n",
    "   if(p==1):\n",
    "     cont1=cont1+1\n",
    "   if(p==2):\n",
    "     cont2=cont2+1\n",
    "   if(p==3):\n",
    "     cont3=cont3+1\n",
    "   if(p==4):\n",
    "     cont4=cont4+1\n",
    "   if(p==5):\n",
    "     cont5=cont5+1\n",
    "   if(p==6):\n",
    "     cont6=cont6+1\n",
    "   if(p==7):\n",
    "     cont7=cont7+1\n",
    "   if(p==8):\n",
    "     cont8=cont8+1\n",
    "   if(p==9):\n",
    "     cont9=cont9+1\n",
    "   if(p==10):\n",
    "     cont10=cont10+1\n",
    "print(100*cont0/len(lista_arq))\n",
    "print(100*cont1/len(lista_arq))\n",
    "print(100*cont2/len(lista_arq))\n",
    "print(100*cont3/len(lista_arq))\n",
    "print(100*cont4/len(lista_arq))\n",
    "print(100*cont5/len(lista_arq))\n",
    "print(100*cont6/len(lista_arq))\n",
    "print(100*cont7/len(lista_arq))\n",
    "print(100*cont8/len(lista_arq))\n",
    "print(100*cont9/len(lista_arq))\n",
    "print(100*cont10/len(lista_arq))"
   ]
  },
  {
   "cell_type": "code",
   "execution_count": 0,
   "metadata": {
    "colab": {},
    "colab_type": "code",
    "id": "4ksqwm6oW2sD"
   },
   "outputs": [],
   "source": [
    "lista_arq = ls('./data/validacion/carne')   # no especificar ruta para tomar el directorio actual\n",
    "cont0=0\n",
    "cont1=0\n",
    "cont2=0\n",
    "cont3=0\n",
    "cont4=0\n",
    "cont5=0\n",
    "cont6=0\n",
    "cont7=0\n",
    "cont8=0\n",
    "cont9=0\n",
    "cont10=0\n",
    "for i in lista_arq:\n",
    "   p=predict('./data/validacion/carne/'+i)\n",
    "   if(p==0):\n",
    "     cont0=cont0+1\n",
    "   if(p==1):\n",
    "     cont1=cont1+1\n",
    "   if(p==2):\n",
    "     cont2=cont2+1\n",
    "   if(p==3):\n",
    "     cont3=cont3+1\n",
    "   if(p==4):\n",
    "     cont4=cont4+1\n",
    "   if(p==5):\n",
    "     cont5=cont5+1\n",
    "   if(p==6):\n",
    "     cont6=cont6+1\n",
    "   if(p==7):\n",
    "     cont7=cont7+1\n",
    "   if(p==8):\n",
    "     cont8=cont8+1\n",
    "   if(p==9):\n",
    "     cont9=cont9+1\n",
    "   if(p==10):\n",
    "     cont10=cont10+1\n",
    "print(100*cont0/len(lista_arq))\n",
    "print(100*cont1/len(lista_arq))\n",
    "print(100*cont2/len(lista_arq))\n",
    "print(100*cont3/len(lista_arq))\n",
    "print(100*cont4/len(lista_arq))\n",
    "print(100*cont5/len(lista_arq))\n",
    "print(100*cont6/len(lista_arq))\n",
    "print(100*cont7/len(lista_arq))\n",
    "print(100*cont8/len(lista_arq))\n",
    "print(100*cont9/len(lista_arq))\n",
    "print(100*cont10/len(lista_arq))"
   ]
  },
  {
   "cell_type": "code",
   "execution_count": 0,
   "metadata": {
    "colab": {},
    "colab_type": "code",
    "id": "2gZaKHDiW3Lq"
   },
   "outputs": [],
   "source": [
    "lista_arq = ls('./data/validacion/pasta')   # no especificar ruta para tomar el directorio actual\n",
    "cont0=0\n",
    "cont1=0\n",
    "cont2=0\n",
    "cont3=0\n",
    "cont4=0\n",
    "cont5=0\n",
    "cont6=0\n",
    "cont7=0\n",
    "cont8=0\n",
    "cont9=0\n",
    "cont10=0\n",
    "for i in lista_arq:\n",
    "   p=predict('./data/validacion/pasta/'+i)\n",
    "   if(p==0):\n",
    "     cont0=cont0+1\n",
    "   if(p==1):\n",
    "     cont1=cont1+1\n",
    "   if(p==2):\n",
    "     cont2=cont2+1\n",
    "   if(p==3):\n",
    "     cont3=cont3+1\n",
    "   if(p==4):\n",
    "     cont4=cont4+1\n",
    "   if(p==5):\n",
    "     cont5=cont5+1\n",
    "   if(p==6):\n",
    "     cont6=cont6+1\n",
    "   if(p==7):\n",
    "     cont7=cont7+1\n",
    "   if(p==8):\n",
    "     cont8=cont8+1\n",
    "   if(p==9):\n",
    "     cont9=cont9+1\n",
    "   if(p==10):\n",
    "     cont10=cont10+1\n",
    "print(100*cont0/len(lista_arq))\n",
    "print(100*cont1/len(lista_arq))\n",
    "print(100*cont2/len(lista_arq))\n",
    "print(100*cont3/len(lista_arq))\n",
    "print(100*cont4/len(lista_arq))\n",
    "print(100*cont5/len(lista_arq))\n",
    "print(100*cont6/len(lista_arq))\n",
    "print(100*cont7/len(lista_arq))\n",
    "print(100*cont8/len(lista_arq))\n",
    "print(100*cont9/len(lista_arq))\n",
    "print(100*cont10/len(lista_arq))"
   ]
  },
  {
   "cell_type": "code",
   "execution_count": 0,
   "metadata": {
    "colab": {},
    "colab_type": "code",
    "id": "WWATv_jxW7oK"
   },
   "outputs": [],
   "source": [
    "lista_arq = ls('./data/validacion/arroz')   # no especificar ruta para tomar el directorio actual\n",
    "cont0=0\n",
    "cont1=0\n",
    "cont2=0\n",
    "cont3=0\n",
    "cont4=0\n",
    "cont5=0\n",
    "cont6=0\n",
    "cont7=0\n",
    "cont8=0\n",
    "cont9=0\n",
    "cont10=0\n",
    "for i in lista_arq:\n",
    "   p=predict('./data/validacion/arroz/'+i)\n",
    "   if(p==0):\n",
    "     cont0=cont0+1\n",
    "   if(p==1):\n",
    "     cont1=cont1+1\n",
    "   if(p==2):\n",
    "     cont2=cont2+1\n",
    "   if(p==3):\n",
    "     cont3=cont3+1\n",
    "   if(p==4):\n",
    "     cont4=cont4+1\n",
    "   if(p==5):\n",
    "     cont5=cont5+1\n",
    "   if(p==6):\n",
    "     cont6=cont6+1\n",
    "   if(p==7):\n",
    "     cont7=cont7+1\n",
    "   if(p==8):\n",
    "     cont8=cont8+1\n",
    "   if(p==9):\n",
    "     cont9=cont9+1\n",
    "   if(p==10):\n",
    "     cont10=cont10+1\n",
    "print(100*cont0/len(lista_arq))\n",
    "print(100*cont1/len(lista_arq))\n",
    "print(100*cont2/len(lista_arq))\n",
    "print(100*cont3/len(lista_arq))\n",
    "print(100*cont4/len(lista_arq))\n",
    "print(100*cont5/len(lista_arq))\n",
    "print(100*cont6/len(lista_arq))\n",
    "print(100*cont7/len(lista_arq))\n",
    "print(100*cont8/len(lista_arq))\n",
    "print(100*cont9/len(lista_arq))\n",
    "print(100*cont10/len(lista_arq))"
   ]
  },
  {
   "cell_type": "code",
   "execution_count": 0,
   "metadata": {
    "colab": {},
    "colab_type": "code",
    "id": "0lcHTlFJW8IX"
   },
   "outputs": [],
   "source": [
    "lista_arq = ls('./data/validacion/marisco')   # no especificar ruta para tomar el directorio actual\n",
    "cont0=0\n",
    "cont1=0\n",
    "cont2=0\n",
    "cont3=0\n",
    "cont4=0\n",
    "cont5=0\n",
    "cont6=0\n",
    "cont7=0\n",
    "cont8=0\n",
    "cont9=0\n",
    "cont10=0\n",
    "for i in lista_arq:\n",
    "   p=predict('./data/validacion/marisco/'+i)\n",
    "   if(p==0):\n",
    "     cont0=cont0+1\n",
    "   if(p==1):\n",
    "     cont1=cont1+1\n",
    "   if(p==2):\n",
    "     cont2=cont2+1\n",
    "   if(p==3):\n",
    "     cont3=cont3+1\n",
    "   if(p==4):\n",
    "     cont4=cont4+1\n",
    "   if(p==5):\n",
    "     cont5=cont5+1\n",
    "   if(p==6):\n",
    "     cont6=cont6+1\n",
    "   if(p==7):\n",
    "     cont7=cont7+1\n",
    "   if(p==8):\n",
    "     cont8=cont8+1\n",
    "   if(p==9):\n",
    "     cont9=cont9+1\n",
    "   if(p==10):\n",
    "     cont10=cont10+1\n",
    "print(100*cont0/len(lista_arq))\n",
    "print(100*cont1/len(lista_arq))\n",
    "print(100*cont2/len(lista_arq))\n",
    "print(100*cont3/len(lista_arq))\n",
    "print(100*cont4/len(lista_arq))\n",
    "print(100*cont5/len(lista_arq))\n",
    "print(100*cont6/len(lista_arq))\n",
    "print(100*cont7/len(lista_arq))\n",
    "print(100*cont8/len(lista_arq))\n",
    "print(100*cont9/len(lista_arq))\n",
    "print(100*cont10/len(lista_arq))"
   ]
  },
  {
   "cell_type": "code",
   "execution_count": 0,
   "metadata": {
    "colab": {},
    "colab_type": "code",
    "id": "otAfHo9PW8jU"
   },
   "outputs": [],
   "source": [
    "lista_arq = ls('./data/validacion/sopa')   # no especificar ruta para tomar el directorio actual\n",
    "cont0=0\n",
    "cont1=0\n",
    "cont2=0\n",
    "cont3=0\n",
    "cont4=0\n",
    "cont5=0\n",
    "cont6=0\n",
    "cont7=0\n",
    "cont8=0\n",
    "cont9=0\n",
    "cont10=0\n",
    "for i in lista_arq:\n",
    "   p=predict('./data/validacion/sopa/'+i)\n",
    "   if(p==0):\n",
    "     cont0=cont0+1\n",
    "   if(p==1):\n",
    "     cont1=cont1+1\n",
    "   if(p==2):\n",
    "     cont2=cont2+1\n",
    "   if(p==3):\n",
    "     cont3=cont3+1\n",
    "   if(p==4):\n",
    "     cont4=cont4+1\n",
    "   if(p==5):\n",
    "     cont5=cont5+1\n",
    "   if(p==6):\n",
    "     cont6=cont6+1\n",
    "   if(p==7):\n",
    "     cont7=cont7+1\n",
    "   if(p==8):\n",
    "     cont8=cont8+1\n",
    "   if(p==9):\n",
    "     cont9=cont9+1\n",
    "   if(p==10):\n",
    "     cont10=cont10+1\n",
    "print(100*cont0/len(lista_arq))\n",
    "print(100*cont1/len(lista_arq))\n",
    "print(100*cont2/len(lista_arq))\n",
    "print(100*cont3/len(lista_arq))\n",
    "print(100*cont4/len(lista_arq))\n",
    "print(100*cont5/len(lista_arq))\n",
    "print(100*cont6/len(lista_arq))\n",
    "print(100*cont7/len(lista_arq))\n",
    "print(100*cont8/len(lista_arq))\n",
    "print(100*cont9/len(lista_arq))\n",
    "print(100*cont10/len(lista_arq))"
   ]
  },
  {
   "cell_type": "code",
   "execution_count": 0,
   "metadata": {
    "colab": {},
    "colab_type": "code",
    "id": "50dqUPmrW87c"
   },
   "outputs": [],
   "source": [
    "lista_arq = ls('./data/validacion/frutaverdura')   # no especificar ruta para tomar el directorio actual\n",
    "cont0=0\n",
    "cont1=0\n",
    "cont2=0\n",
    "cont3=0\n",
    "cont4=0\n",
    "cont5=0\n",
    "cont6=0\n",
    "cont7=0\n",
    "cont8=0\n",
    "cont9=0\n",
    "cont10=0\n",
    "for i in lista_arq:\n",
    "   p=predict('./data/validacion/frutaverdura/'+i)\n",
    "   if(p==0):\n",
    "     cont0=cont0+1\n",
    "   if(p==1):\n",
    "     cont1=cont1+1\n",
    "   if(p==2):\n",
    "     cont2=cont2+1\n",
    "   if(p==3):\n",
    "     cont3=cont3+1\n",
    "   if(p==4):\n",
    "     cont4=cont4+1\n",
    "   if(p==5):\n",
    "     cont5=cont5+1\n",
    "   if(p==6):\n",
    "     cont6=cont6+1\n",
    "   if(p==7):\n",
    "     cont7=cont7+1\n",
    "   if(p==8):\n",
    "     cont8=cont8+1\n",
    "   if(p==9):\n",
    "     cont9=cont9+1\n",
    "   if(p==10):\n",
    "     cont10=cont10+1\n",
    "print(100*cont0/len(lista_arq))\n",
    "print(100*cont1/len(lista_arq))\n",
    "print(100*cont2/len(lista_arq))\n",
    "print(100*cont3/len(lista_arq))\n",
    "print(100*cont4/len(lista_arq))\n",
    "print(100*cont5/len(lista_arq))\n",
    "print(100*cont6/len(lista_arq))\n",
    "print(100*cont7/len(lista_arq))\n",
    "print(100*cont8/len(lista_arq))\n",
    "print(100*cont9/len(lista_arq))\n",
    "print(100*cont10/len(lista_arq))"
   ]
  },
  {
   "cell_type": "code",
   "execution_count": 0,
   "metadata": {
    "colab": {},
    "colab_type": "code",
    "id": "vjgkFKqQtcgH"
   },
   "outputs": [],
   "source": [
    "\n",
    "files.download('./modelo/modelo.h5')\n",
    "files.download('./modelo/pesos.h5')"
   ]
  },
  {
   "cell_type": "code",
   "execution_count": 0,
   "metadata": {
    "colab": {},
    "colab_type": "code",
    "id": "Zcdez3nAY9GT"
   },
   "outputs": [],
   "source": [
    "lista_arq = ls('./evaluation')   # no especificar ruta para tomar el directorio actual\n",
    "true=0\n",
    "\n",
    "for i in lista_arq:\n",
    "   p=predict('./evaluation/'+i)\n",
    "   if(str(p)==i[0]):\n",
    "     true=true+1\n",
    "print(100*true/len(lista_arq))"
   ]
  },
  {
   "cell_type": "code",
   "execution_count": 0,
   "metadata": {
    "colab": {},
    "colab_type": "code",
    "id": "Mp-oTAArq5v0"
   },
   "outputs": [],
   "source": []
  }
 ],
 "metadata": {
  "accelerator": "GPU",
  "colab": {
   "collapsed_sections": [],
   "name": "Clasificación de comida.ipynb",
   "provenance": []
  },
  "kernelspec": {
   "display_name": "Python 3",
   "language": "python",
   "name": "python3"
  },
  "language_info": {
   "codemirror_mode": {
    "name": "ipython",
    "version": 3
   },
   "file_extension": ".py",
   "mimetype": "text/x-python",
   "name": "python",
   "nbconvert_exporter": "python",
   "pygments_lexer": "ipython3",
   "version": "3.7.4"
  }
 },
 "nbformat": 4,
 "nbformat_minor": 1
}
