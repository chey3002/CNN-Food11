{
 "cells": [
  {
   "cell_type": "code",
   "execution_count": 0,
   "metadata": {
    "colab": {},
    "colab_type": "code",
    "id": "GhDcnkTrRRHH"
   },
   "outputs": [],
   "source": [
    "from google.colab import drive\n",
    "drive.mount('/content/drive')"
   ]
  },
  {
   "cell_type": "code",
   "execution_count": 0,
   "metadata": {
    "colab": {},
    "colab_type": "code",
    "id": "yBPXHKx7mi37"
   },
   "outputs": [],
   "source": []
  },
  {
   "cell_type": "markdown",
   "metadata": {
    "colab_type": "text",
    "id": "57GeJNJ6vxeK"
   },
   "source": [
    "!git clone https://github.com/puigalex/AMP-Tech.git"
   ]
  },
  {
   "cell_type": "code",
   "execution_count": 0,
   "metadata": {
    "colab": {},
    "colab_type": "code",
    "id": "yx2njtztw8fz"
   },
   "outputs": [],
   "source": [
    "%cd /content/drive/My Drive/obj_clasi"
   ]
  },
  {
   "cell_type": "code",
   "execution_count": 0,
   "metadata": {
    "colab": {
     "base_uri": "https://localhost:8080/",
     "height": 34
    },
    "colab_type": "code",
    "id": "piea3xdQS_uq",
    "outputId": "9bd7f713-350d-4b2e-918b-f165c5d26013"
   },
   "outputs": [
    {
     "name": "stdout",
     "output_type": "stream",
     "text": [
      "Clasificación_de_comida.ipynb  clasificación_de_comida.py  data  evaluation\n"
     ]
    }
   ],
   "source": [
    "!ls"
   ]
  },
  {
   "cell_type": "code",
   "execution_count": 0,
   "metadata": {
    "colab": {},
    "colab_type": "code",
    "id": "jUiL3Mpy96NP"
   },
   "outputs": [],
   "source": [
    "from google.colab import files"
   ]
  },
  {
   "cell_type": "markdown",
   "metadata": {
    "colab_type": "text",
    "id": "3QfpVmMt7Jm_"
   },
   "source": [
    "Entrenar"
   ]
  },
  {
   "cell_type": "code",
   "execution_count": 0,
   "metadata": {
    "colab": {},
    "colab_type": "code",
    "id": "qUp9B4SFzkF9"
   },
   "outputs": [],
   "source": []
  },
  {
   "cell_type": "markdown",
   "metadata": {
    "colab_type": "text",
    "id": "j5cxUTsgTTip"
   },
   "source": [
    "import sys\n",
    "import os\n",
    "from tensorflow.python.keras.preprocessing.image import ImageDataGenerator\n",
    "from tensorflow.python.keras import optimizers\n",
    "from tensorflow.python.keras.models import Sequential\n",
    "from tensorflow.python.keras.layers import Dropout, Flatten, Dense, Activation\n",
    "from tensorflow.python.keras.layers import  Convolution2D, MaxPooling2D\n",
    "from tensorflow.python.keras import backend as K\n",
    "K.clear_session()\n",
    "data_entrenamiento = './data/entrenamiento'\n",
    "data_validacion = './data/validacion'\n",
    "\"\"\"\n",
    "Parametros\n",
    "\"\"\"\n",
    "epocas=20 #Numero de iteraciones sobre el set de datos durante el entrnamiento\n",
    "longitud, altura = 150, 150 #tamaño de imagen para el entrenamiento\n",
    "batch_size = 32 #numero de imagenes por paso\n",
    "pasos = 1000 #numero de veces que se procesara la información en cada éppoca\n",
    "validation_steps = 300 #Al final de las épocas se realizara una validacion de 300 pasos\n",
    "filtrosConv1 = 32 #Numero de filtros aplicados por combolución (Profundidad)\n",
    "filtrosConv2 = 64 #\n",
    "tamano_filtro1 = (3, 3) #tamaño del filtro usado en cada combolución\n",
    "tamano_filtro2 = (2, 2)\n",
    "tamano_pool = (2, 2) #tamaño del filtro de max pooling\n",
    "clases = 3 #numero de clases\n",
    "lr = 0.0004 #coeficiente de aprendizaje\n",
    "\n",
    "\n",
    "##Preparamos nuestras imagenes\n",
    "#preprocesamiento\n",
    "entrenamiento_datagen = ImageDataGenerator(\n",
    "    rescale=1. / 255, #reescalar las imágenes rango de pixeles de 0 a 1\n",
    "    shear_range=0.2, #Generar imagenes inclinadas\n",
    "    zoom_range=0.2,  #posibilidad de hacer zoom\n",
    "    horizontal_flip=True)#invertir imagen \n",
    "test_datagen = ImageDataGenerator(rescale=1. / 255)\n",
    "\n",
    "entrenamiento_generador = entrenamiento_datagen.flow_from_directory(\n",
    "    data_entrenamiento,\n",
    "    target_size=(altura, longitud),\n",
    "    batch_size=batch_size,\n",
    "    class_mode='categorical')\n",
    "\n",
    "validacion_generador = test_datagen.flow_from_directory(\n",
    "    data_validacion,\n",
    "    target_size=(altura, longitud),\n",
    "    batch_size=batch_size,\n",
    "    class_mode='categorical')\n",
    "#Red neuronal combolucional\n",
    "cnn = Sequential()#red secuencial\n",
    "cnn.add(Convolution2D(filtrosConv1, tamano_filtro1, padding =\"same\", input_shape=(longitud, altura, 3), activation='relu')) #creacion de la primera capa \n",
    "cnn.add(MaxPooling2D(pool_size=tamano_pool))#capa de pooling\n",
    "\n",
    "cnn.add(Convolution2D(filtrosConv2, tamano_filtro2, padding =\"same\"))#segunda caoa combolucional\n",
    "cnn.add(MaxPooling2D(pool_size=tamano_pool))#segunda capa de pooling\n",
    "#inicia la clasificación\n",
    "cnn.add(Flatten())#transformar la información a una sola dimencion \n",
    "cnn.add(Dense(256, activation='relu'))#256 neuronas, con activación relu\n",
    "cnn.add(Dropout(0.5))#Se apagaran el 50% de las neuronas para evitar sobreajuste, para adaptarse a informacion nueva\n",
    "cnn.add(Dense(clases, activation='softmax'))#realiza la clasificación\n",
    "\n",
    "cnn.compile(loss='categorical_crossentropy',#parametos que se utilizaran para el algoritmo\n",
    "            optimizer=optimizers.Adam(lr=lr),#optimizador adam\n",
    "            metrics=['accuracy'])#metrica utilizada\n",
    "\n",
    "#entrenamiento\n",
    "cnn.fit_generator(\n",
    "    entrenamiento_generador,#imagenes de entrenamiento\n",
    "    steps_per_epoch=pasos,#numero de pasos\n",
    "    epochs=epocas,#numero de pasos\n",
    "    validation_data=validacion_generador,#imagenes de validazion\n",
    "    validation_steps=validation_steps)#pasos de validación\n",
    "#guardar modelo como archivo\n",
    "target_dir = './modelo/'\n",
    "if not os.path.exists(target_dir):\n",
    "  os.mkdir(target_dir)\n",
    "cnn.save('./modelo/modelo.h5')\n",
    "cnn.save_weights('./modelo/pesos.h5')"
   ]
  },
  {
   "cell_type": "markdown",
   "metadata": {
    "colab_type": "text",
    "id": "1y6LJBXQ7PcV"
   },
   "source": [
    "predict"
   ]
  },
  {
   "cell_type": "code",
   "execution_count": 0,
   "metadata": {
    "colab": {},
    "colab_type": "code",
    "id": "yVMYaQFi7Scf"
   },
   "outputs": [],
   "source": [
    "\n"
   ]
  },
  {
   "cell_type": "markdown",
   "metadata": {
    "colab_type": "text",
    "id": "aqqAGaTSTaU3"
   },
   "source": [
    "import numpy as np\n",
    "import keras\n",
    "from keras.preprocessing.image import load_img, img_to_array\n",
    "from keras.models import load_model\n",
    "import tensorflow as tf \n",
    "longitud, altura = 150, 150#tamaño de la imagen\n",
    "modelo = './modelo/modelo.h5'#direccion del modelo\n",
    "pesos_modelo = './modelo/pesos.h5'#direccion de los pesos\n",
    "cnn = tf.keras.models.load_model(modelo)#cargar modelo\n",
    "cnn.load_weights(pesos_modelo)#cargar pesos\n",
    "#funcion de prediccion\n",
    "def predict(file):\n",
    "  x = tf.keras.preprocessing.image.load_img(file, target_size=(longitud, altura))#cargar la imagen\n",
    "  x = tf.keras.preprocessing.image.img_to_array(x)#tansformar imagen a arreglo\n",
    "  x = np.expand_dims(x, axis=0)#en el eje 0 se agrega una dimención extra para procesar la información sin problema\n",
    "  array = cnn.predict(x)#se llama a la red para realizar la predicción\n",
    "  result = array[0]#obtenemos el resultado\n",
    "  answer = np.argmax(result)#nos entrega el indice del valor mas alto\n",
    "  #clasificación del resultado\n",
    "  if answer == 0:\n",
    "    print(\"pred: Perro\")\n",
    "  elif answer == 1:\n",
    "    print(\"pred: Gato\")\n",
    "  elif answer == 2:\n",
    "    print(\"pred: Gorila\")\n",
    "\n",
    "  return answer"
   ]
  },
  {
   "cell_type": "code",
   "execution_count": 0,
   "metadata": {
    "colab": {},
    "colab_type": "code",
    "id": "jnXQMFaIZtee"
   },
   "outputs": [],
   "source": []
  },
  {
   "cell_type": "markdown",
   "metadata": {
    "colab_type": "text",
    "id": "jzrKakbzTckC"
   },
   "source": [
    "print(\"cat\")\n",
    "file='./test/cat.5000.jpg'\n",
    "predict(file)#ingresar direccion de la imagen\n",
    "print(\"dog\")\n",
    "file='./test/dog.5000.jpg'\n",
    "predict(file)#ingresar direccion de la imagen\n",
    "print(\"gorilla\")\n",
    "file='./test/8.jpeg'\n",
    "predict(file)#ingresar direccion de la imagen"
   ]
  },
  {
   "cell_type": "markdown",
   "metadata": {
    "colab_type": "text",
    "id": "0tu_0VZ4r_tW"
   },
   "source": [
    "New"
   ]
  },
  {
   "cell_type": "code",
   "execution_count": 1,
   "metadata": {
    "colab": {
     "base_uri": "https://localhost:8080/",
     "height": 63
    },
    "colab_type": "code",
    "id": "Vg0gqvQHsCf-",
    "outputId": "701700c5-a8e5-478d-98bd-d71196952fef"
   },
   "outputs": [],
   "source": [
    "import sys\n",
    "import os\n",
    "import tensorflow as tf\n",
    "from tensorflow.python.keras.preprocessing.image import ImageDataGenerator\n",
    "from tensorflow.python.keras import optimizers\n",
    "from tensorflow.python.keras.models import Sequential\n",
    "from tensorflow.python.keras.layers import Dropout, Flatten, Dense, Activation\n",
    "from tensorflow.python.keras.layers import  Convolution2D, MaxPooling2D\n",
    "from tensorflow.python.keras import backend as K\n",
    "from tensorflow.python.keras import applications"
   ]
  },
  {
   "cell_type": "code",
   "execution_count": 2,
   "metadata": {
    "colab": {
     "base_uri": "https://localhost:8080/",
     "height": 90
    },
    "colab_type": "code",
    "id": "zbW2suh3sGdD",
    "outputId": "b11705bd-d23a-45b4-9405-6f84b33211ec"
   },
   "outputs": [],
   "source": [
    "vgg=applications.vgg16.VGG16()"
   ]
  },
  {
   "cell_type": "code",
   "execution_count": 3,
   "metadata": {
    "colab": {
     "base_uri": "https://localhost:8080/",
     "height": 976
    },
    "colab_type": "code",
    "id": "cSMvVhLRsJji",
    "outputId": "a97060a0-0236-4670-fb3d-e6b8078dc9b8"
   },
   "outputs": [
    {
     "name": "stdout",
     "output_type": "stream",
     "text": [
      "Model: \"vgg16\"\n",
      "_________________________________________________________________\n",
      "Layer (type)                 Output Shape              Param #   \n",
      "=================================================================\n",
      "input_1 (InputLayer)         [(None, 224, 224, 3)]     0         \n",
      "_________________________________________________________________\n",
      "block1_conv1 (Conv2D)        (None, 224, 224, 64)      1792      \n",
      "_________________________________________________________________\n",
      "block1_conv2 (Conv2D)        (None, 224, 224, 64)      36928     \n",
      "_________________________________________________________________\n",
      "block1_pool (MaxPooling2D)   (None, 112, 112, 64)      0         \n",
      "_________________________________________________________________\n",
      "block2_conv1 (Conv2D)        (None, 112, 112, 128)     73856     \n",
      "_________________________________________________________________\n",
      "block2_conv2 (Conv2D)        (None, 112, 112, 128)     147584    \n",
      "_________________________________________________________________\n",
      "block2_pool (MaxPooling2D)   (None, 56, 56, 128)       0         \n",
      "_________________________________________________________________\n",
      "block3_conv1 (Conv2D)        (None, 56, 56, 256)       295168    \n",
      "_________________________________________________________________\n",
      "block3_conv2 (Conv2D)        (None, 56, 56, 256)       590080    \n",
      "_________________________________________________________________\n",
      "block3_conv3 (Conv2D)        (None, 56, 56, 256)       590080    \n",
      "_________________________________________________________________\n",
      "block3_pool (MaxPooling2D)   (None, 28, 28, 256)       0         \n",
      "_________________________________________________________________\n",
      "block4_conv1 (Conv2D)        (None, 28, 28, 512)       1180160   \n",
      "_________________________________________________________________\n",
      "block4_conv2 (Conv2D)        (None, 28, 28, 512)       2359808   \n",
      "_________________________________________________________________\n",
      "block4_conv3 (Conv2D)        (None, 28, 28, 512)       2359808   \n",
      "_________________________________________________________________\n",
      "block4_pool (MaxPooling2D)   (None, 14, 14, 512)       0         \n",
      "_________________________________________________________________\n",
      "block5_conv1 (Conv2D)        (None, 14, 14, 512)       2359808   \n",
      "_________________________________________________________________\n",
      "block5_conv2 (Conv2D)        (None, 14, 14, 512)       2359808   \n",
      "_________________________________________________________________\n",
      "block5_conv3 (Conv2D)        (None, 14, 14, 512)       2359808   \n",
      "_________________________________________________________________\n",
      "block5_pool (MaxPooling2D)   (None, 7, 7, 512)         0         \n",
      "_________________________________________________________________\n",
      "flatten (Flatten)            (None, 25088)             0         \n",
      "_________________________________________________________________\n",
      "fc1 (Dense)                  (None, 4096)              102764544 \n",
      "_________________________________________________________________\n",
      "fc2 (Dense)                  (None, 4096)              16781312  \n",
      "_________________________________________________________________\n",
      "predictions (Dense)          (None, 1000)              4097000   \n",
      "=================================================================\n",
      "Total params: 138,357,544\n",
      "Trainable params: 138,357,544\n",
      "Non-trainable params: 0\n",
      "_________________________________________________________________\n"
     ]
    }
   ],
   "source": [
    "vgg.summary()"
   ]
  },
  {
   "cell_type": "code",
   "execution_count": 4,
   "metadata": {
    "colab": {},
    "colab_type": "code",
    "id": "BPCQEBGRsNHD"
   },
   "outputs": [],
   "source": [
    "cnn=Sequential()\n",
    "for capa in vgg.layers:\n",
    "    cnn.add(capa)"
   ]
  },
  {
   "cell_type": "code",
   "execution_count": 5,
   "metadata": {
    "colab": {
     "base_uri": "https://localhost:8080/",
     "height": 941
    },
    "colab_type": "code",
    "id": "OSU1cbgbsVDS",
    "outputId": "24560ec9-469e-44a2-da0f-a3fe0a893667"
   },
   "outputs": [
    {
     "name": "stdout",
     "output_type": "stream",
     "text": [
      "Model: \"sequential\"\n",
      "_________________________________________________________________\n",
      "Layer (type)                 Output Shape              Param #   \n",
      "=================================================================\n",
      "block1_conv1 (Conv2D)        (None, 224, 224, 64)      1792      \n",
      "_________________________________________________________________\n",
      "block1_conv2 (Conv2D)        (None, 224, 224, 64)      36928     \n",
      "_________________________________________________________________\n",
      "block1_pool (MaxPooling2D)   (None, 112, 112, 64)      0         \n",
      "_________________________________________________________________\n",
      "block2_conv1 (Conv2D)        (None, 112, 112, 128)     73856     \n",
      "_________________________________________________________________\n",
      "block2_conv2 (Conv2D)        (None, 112, 112, 128)     147584    \n",
      "_________________________________________________________________\n",
      "block2_pool (MaxPooling2D)   (None, 56, 56, 128)       0         \n",
      "_________________________________________________________________\n",
      "block3_conv1 (Conv2D)        (None, 56, 56, 256)       295168    \n",
      "_________________________________________________________________\n",
      "block3_conv2 (Conv2D)        (None, 56, 56, 256)       590080    \n",
      "_________________________________________________________________\n",
      "block3_conv3 (Conv2D)        (None, 56, 56, 256)       590080    \n",
      "_________________________________________________________________\n",
      "block3_pool (MaxPooling2D)   (None, 28, 28, 256)       0         \n",
      "_________________________________________________________________\n",
      "block4_conv1 (Conv2D)        (None, 28, 28, 512)       1180160   \n",
      "_________________________________________________________________\n",
      "block4_conv2 (Conv2D)        (None, 28, 28, 512)       2359808   \n",
      "_________________________________________________________________\n",
      "block4_conv3 (Conv2D)        (None, 28, 28, 512)       2359808   \n",
      "_________________________________________________________________\n",
      "block4_pool (MaxPooling2D)   (None, 14, 14, 512)       0         \n",
      "_________________________________________________________________\n",
      "block5_conv1 (Conv2D)        (None, 14, 14, 512)       2359808   \n",
      "_________________________________________________________________\n",
      "block5_conv2 (Conv2D)        (None, 14, 14, 512)       2359808   \n",
      "_________________________________________________________________\n",
      "block5_conv3 (Conv2D)        (None, 14, 14, 512)       2359808   \n",
      "_________________________________________________________________\n",
      "block5_pool (MaxPooling2D)   (None, 7, 7, 512)         0         \n",
      "_________________________________________________________________\n",
      "flatten (Flatten)            (None, 25088)             0         \n",
      "_________________________________________________________________\n",
      "fc1 (Dense)                  (None, 4096)              102764544 \n",
      "_________________________________________________________________\n",
      "fc2 (Dense)                  (None, 4096)              16781312  \n",
      "_________________________________________________________________\n",
      "predictions (Dense)          (None, 1000)              4097000   \n",
      "=================================================================\n",
      "Total params: 138,357,544\n",
      "Trainable params: 138,357,544\n",
      "Non-trainable params: 0\n",
      "_________________________________________________________________\n"
     ]
    }
   ],
   "source": [
    "cnn.summary()"
   ]
  },
  {
   "cell_type": "code",
   "execution_count": 6,
   "metadata": {
    "colab": {},
    "colab_type": "code",
    "id": "0xRPYlo_sXVZ"
   },
   "outputs": [],
   "source": [
    "cnn.pop()"
   ]
  },
  {
   "cell_type": "code",
   "execution_count": 7,
   "metadata": {
    "colab": {},
    "colab_type": "code",
    "id": "7TzQCoMnsbDt"
   },
   "outputs": [],
   "source": [
    "for layer in cnn.layers:\n",
    "    layer.trainable=False"
   ]
  },
  {
   "cell_type": "code",
   "execution_count": 8,
   "metadata": {
    "colab": {},
    "colab_type": "code",
    "id": "7NrHFW4WsihJ"
   },
   "outputs": [],
   "source": [
    "cnn.add(Dense(3,activation='softmax'))"
   ]
  },
  {
   "cell_type": "code",
   "execution_count": 9,
   "metadata": {
    "colab": {
     "base_uri": "https://localhost:8080/",
     "height": 941
    },
    "colab_type": "code",
    "id": "Bo2-kmLoskSD",
    "outputId": "a0e92d95-e3bd-465a-da69-88fe475709eb"
   },
   "outputs": [
    {
     "name": "stdout",
     "output_type": "stream",
     "text": [
      "Model: \"sequential\"\n",
      "_________________________________________________________________\n",
      "Layer (type)                 Output Shape              Param #   \n",
      "=================================================================\n",
      "block1_conv1 (Conv2D)        (None, 224, 224, 64)      1792      \n",
      "_________________________________________________________________\n",
      "block1_conv2 (Conv2D)        (None, 224, 224, 64)      36928     \n",
      "_________________________________________________________________\n",
      "block1_pool (MaxPooling2D)   (None, 112, 112, 64)      0         \n",
      "_________________________________________________________________\n",
      "block2_conv1 (Conv2D)        (None, 112, 112, 128)     73856     \n",
      "_________________________________________________________________\n",
      "block2_conv2 (Conv2D)        (None, 112, 112, 128)     147584    \n",
      "_________________________________________________________________\n",
      "block2_pool (MaxPooling2D)   (None, 56, 56, 128)       0         \n",
      "_________________________________________________________________\n",
      "block3_conv1 (Conv2D)        (None, 56, 56, 256)       295168    \n",
      "_________________________________________________________________\n",
      "block3_conv2 (Conv2D)        (None, 56, 56, 256)       590080    \n",
      "_________________________________________________________________\n",
      "block3_conv3 (Conv2D)        (None, 56, 56, 256)       590080    \n",
      "_________________________________________________________________\n",
      "block3_pool (MaxPooling2D)   (None, 28, 28, 256)       0         \n",
      "_________________________________________________________________\n",
      "block4_conv1 (Conv2D)        (None, 28, 28, 512)       1180160   \n",
      "_________________________________________________________________\n",
      "block4_conv2 (Conv2D)        (None, 28, 28, 512)       2359808   \n",
      "_________________________________________________________________\n",
      "block4_conv3 (Conv2D)        (None, 28, 28, 512)       2359808   \n",
      "_________________________________________________________________\n",
      "block4_pool (MaxPooling2D)   (None, 14, 14, 512)       0         \n",
      "_________________________________________________________________\n",
      "block5_conv1 (Conv2D)        (None, 14, 14, 512)       2359808   \n",
      "_________________________________________________________________\n",
      "block5_conv2 (Conv2D)        (None, 14, 14, 512)       2359808   \n",
      "_________________________________________________________________\n",
      "block5_conv3 (Conv2D)        (None, 14, 14, 512)       2359808   \n",
      "_________________________________________________________________\n",
      "block5_pool (MaxPooling2D)   (None, 7, 7, 512)         0         \n",
      "_________________________________________________________________\n",
      "flatten (Flatten)            (None, 25088)             0         \n",
      "_________________________________________________________________\n",
      "fc1 (Dense)                  (None, 4096)              102764544 \n",
      "_________________________________________________________________\n",
      "fc2 (Dense)                  (None, 4096)              16781312  \n",
      "_________________________________________________________________\n",
      "dense (Dense)                (None, 3)                 12291     \n",
      "=================================================================\n",
      "Total params: 134,272,835\n",
      "Trainable params: 12,291\n",
      "Non-trainable params: 134,260,544\n",
      "_________________________________________________________________\n"
     ]
    }
   ],
   "source": [
    "cnn.summary()"
   ]
  },
  {
   "cell_type": "code",
   "execution_count": null,
   "metadata": {
    "colab": {},
    "colab_type": "code",
    "id": "ZB_XF5UaBCSl"
   },
   "outputs": [],
   "source": [
    "\n"
   ]
  },
  {
   "cell_type": "code",
   "execution_count": 10,
   "metadata": {
    "colab": {},
    "colab_type": "code",
    "id": "Y8KxWFDTsmI9"
   },
   "outputs": [],
   "source": [
    "def modelo():\n",
    "    vgg=applications.vgg16.VGG16()\n",
    "    cnn=Sequential()\n",
    "    for capa in vgg.layers:\n",
    "            cnn.add(capa)\n",
    "    cnn.layers.pop()\n",
    "    for layer in cnn.layers:\n",
    "            layer.trainable=False\n",
    "    cnn.add(Dense(11,activation='softmax'))\n",
    "    \n",
    "    return cnn"
   ]
  },
  {
   "cell_type": "code",
   "execution_count": 14,
   "metadata": {
    "colab": {
     "base_uri": "https://localhost:8080/",
     "height": 214
    },
    "colab_type": "code",
    "id": "ajUL2JTXspn7",
    "outputId": "388495de-fe31-418b-a62f-000a6f38062d"
   },
   "outputs": [
    {
     "name": "stdout",
     "output_type": "stream",
     "text": [
      "Found 9866 images belonging to 11 classes.\n",
      "Found 3430 images belonging to 11 classes.\n",
      "WARNING:tensorflow:sample_weight modes were coerced from\n",
      "  ...\n",
      "    to  \n",
      "  ['...']\n",
      "WARNING:tensorflow:sample_weight modes were coerced from\n",
      "  ...\n",
      "    to  \n",
      "  ['...']\n",
      "Train for 100 steps, validate for 100 steps\n",
      "Epoch 1/100\n",
      "  3/100 [..............................] - ETA: 12:27 - loss: 2.3797 - accuracy: 0.1500"
     ]
    },
    {
     "ename": "KeyboardInterrupt",
     "evalue": "",
     "output_type": "error",
     "traceback": [
      "\u001b[1;31m---------------------------------------------------------------------------\u001b[0m",
      "\u001b[1;31mKeyboardInterrupt\u001b[0m                         Traceback (most recent call last)",
      "\u001b[1;32m<ipython-input-14-9da8d79cde80>\u001b[0m in \u001b[0;36m<module>\u001b[1;34m\u001b[0m\n\u001b[0;32m     55\u001b[0m     \u001b[0mepochs\u001b[0m\u001b[1;33m=\u001b[0m\u001b[0mepocas\u001b[0m\u001b[1;33m,\u001b[0m\u001b[1;33m\u001b[0m\u001b[1;33m\u001b[0m\u001b[0m\n\u001b[0;32m     56\u001b[0m     \u001b[0mvalidation_data\u001b[0m\u001b[1;33m=\u001b[0m\u001b[0mvalidacion_generador\u001b[0m\u001b[1;33m,\u001b[0m\u001b[1;33m\u001b[0m\u001b[1;33m\u001b[0m\u001b[0m\n\u001b[1;32m---> 57\u001b[1;33m     validation_steps=validation_steps)\n\u001b[0m\u001b[0;32m     58\u001b[0m \u001b[1;33m\u001b[0m\u001b[0m\n\u001b[0;32m     59\u001b[0m \u001b[0mtarget_dir\u001b[0m \u001b[1;33m=\u001b[0m \u001b[1;34m'./modelo/'\u001b[0m\u001b[1;33m\u001b[0m\u001b[1;33m\u001b[0m\u001b[0m\n",
      "\u001b[1;32m~\\Anaconda3\\lib\\site-packages\\tensorflow_core\\python\\util\\deprecation.py\u001b[0m in \u001b[0;36mnew_func\u001b[1;34m(*args, **kwargs)\u001b[0m\n\u001b[0;32m    322\u001b[0m               \u001b[1;34m'in a future version'\u001b[0m \u001b[1;32mif\u001b[0m \u001b[0mdate\u001b[0m \u001b[1;32mis\u001b[0m \u001b[1;32mNone\u001b[0m \u001b[1;32melse\u001b[0m \u001b[1;33m(\u001b[0m\u001b[1;34m'after %s'\u001b[0m \u001b[1;33m%\u001b[0m \u001b[0mdate\u001b[0m\u001b[1;33m)\u001b[0m\u001b[1;33m,\u001b[0m\u001b[1;33m\u001b[0m\u001b[1;33m\u001b[0m\u001b[0m\n\u001b[0;32m    323\u001b[0m               instructions)\n\u001b[1;32m--> 324\u001b[1;33m       \u001b[1;32mreturn\u001b[0m \u001b[0mfunc\u001b[0m\u001b[1;33m(\u001b[0m\u001b[1;33m*\u001b[0m\u001b[0margs\u001b[0m\u001b[1;33m,\u001b[0m \u001b[1;33m**\u001b[0m\u001b[0mkwargs\u001b[0m\u001b[1;33m)\u001b[0m\u001b[1;33m\u001b[0m\u001b[1;33m\u001b[0m\u001b[0m\n\u001b[0m\u001b[0;32m    325\u001b[0m     return tf_decorator.make_decorator(\n\u001b[0;32m    326\u001b[0m         \u001b[0mfunc\u001b[0m\u001b[1;33m,\u001b[0m \u001b[0mnew_func\u001b[0m\u001b[1;33m,\u001b[0m \u001b[1;34m'deprecated'\u001b[0m\u001b[1;33m,\u001b[0m\u001b[1;33m\u001b[0m\u001b[1;33m\u001b[0m\u001b[0m\n",
      "\u001b[1;32m~\\Anaconda3\\lib\\site-packages\\tensorflow_core\\python\\keras\\engine\\training.py\u001b[0m in \u001b[0;36mfit_generator\u001b[1;34m(self, generator, steps_per_epoch, epochs, verbose, callbacks, validation_data, validation_steps, validation_freq, class_weight, max_queue_size, workers, use_multiprocessing, shuffle, initial_epoch)\u001b[0m\n\u001b[0;32m   1304\u001b[0m         \u001b[0muse_multiprocessing\u001b[0m\u001b[1;33m=\u001b[0m\u001b[0muse_multiprocessing\u001b[0m\u001b[1;33m,\u001b[0m\u001b[1;33m\u001b[0m\u001b[1;33m\u001b[0m\u001b[0m\n\u001b[0;32m   1305\u001b[0m         \u001b[0mshuffle\u001b[0m\u001b[1;33m=\u001b[0m\u001b[0mshuffle\u001b[0m\u001b[1;33m,\u001b[0m\u001b[1;33m\u001b[0m\u001b[1;33m\u001b[0m\u001b[0m\n\u001b[1;32m-> 1306\u001b[1;33m         initial_epoch=initial_epoch)\n\u001b[0m\u001b[0;32m   1307\u001b[0m \u001b[1;33m\u001b[0m\u001b[0m\n\u001b[0;32m   1308\u001b[0m   @deprecation.deprecated(\n",
      "\u001b[1;32m~\\Anaconda3\\lib\\site-packages\\tensorflow_core\\python\\keras\\engine\\training.py\u001b[0m in \u001b[0;36mfit\u001b[1;34m(self, x, y, batch_size, epochs, verbose, callbacks, validation_split, validation_data, shuffle, class_weight, sample_weight, initial_epoch, steps_per_epoch, validation_steps, validation_freq, max_queue_size, workers, use_multiprocessing, **kwargs)\u001b[0m\n\u001b[0;32m    817\u001b[0m         \u001b[0mmax_queue_size\u001b[0m\u001b[1;33m=\u001b[0m\u001b[0mmax_queue_size\u001b[0m\u001b[1;33m,\u001b[0m\u001b[1;33m\u001b[0m\u001b[1;33m\u001b[0m\u001b[0m\n\u001b[0;32m    818\u001b[0m         \u001b[0mworkers\u001b[0m\u001b[1;33m=\u001b[0m\u001b[0mworkers\u001b[0m\u001b[1;33m,\u001b[0m\u001b[1;33m\u001b[0m\u001b[1;33m\u001b[0m\u001b[0m\n\u001b[1;32m--> 819\u001b[1;33m         use_multiprocessing=use_multiprocessing)\n\u001b[0m\u001b[0;32m    820\u001b[0m \u001b[1;33m\u001b[0m\u001b[0m\n\u001b[0;32m    821\u001b[0m   def evaluate(self,\n",
      "\u001b[1;32m~\\Anaconda3\\lib\\site-packages\\tensorflow_core\\python\\keras\\engine\\training_v2.py\u001b[0m in \u001b[0;36mfit\u001b[1;34m(self, model, x, y, batch_size, epochs, verbose, callbacks, validation_split, validation_data, shuffle, class_weight, sample_weight, initial_epoch, steps_per_epoch, validation_steps, validation_freq, max_queue_size, workers, use_multiprocessing, **kwargs)\u001b[0m\n\u001b[0;32m    340\u001b[0m                 \u001b[0mmode\u001b[0m\u001b[1;33m=\u001b[0m\u001b[0mModeKeys\u001b[0m\u001b[1;33m.\u001b[0m\u001b[0mTRAIN\u001b[0m\u001b[1;33m,\u001b[0m\u001b[1;33m\u001b[0m\u001b[1;33m\u001b[0m\u001b[0m\n\u001b[0;32m    341\u001b[0m                 \u001b[0mtraining_context\u001b[0m\u001b[1;33m=\u001b[0m\u001b[0mtraining_context\u001b[0m\u001b[1;33m,\u001b[0m\u001b[1;33m\u001b[0m\u001b[1;33m\u001b[0m\u001b[0m\n\u001b[1;32m--> 342\u001b[1;33m                 total_epochs=epochs)\n\u001b[0m\u001b[0;32m    343\u001b[0m             \u001b[0mcbks\u001b[0m\u001b[1;33m.\u001b[0m\u001b[0mmake_logs\u001b[0m\u001b[1;33m(\u001b[0m\u001b[0mmodel\u001b[0m\u001b[1;33m,\u001b[0m \u001b[0mepoch_logs\u001b[0m\u001b[1;33m,\u001b[0m \u001b[0mtraining_result\u001b[0m\u001b[1;33m,\u001b[0m \u001b[0mModeKeys\u001b[0m\u001b[1;33m.\u001b[0m\u001b[0mTRAIN\u001b[0m\u001b[1;33m)\u001b[0m\u001b[1;33m\u001b[0m\u001b[1;33m\u001b[0m\u001b[0m\n\u001b[0;32m    344\u001b[0m \u001b[1;33m\u001b[0m\u001b[0m\n",
      "\u001b[1;32m~\\Anaconda3\\lib\\site-packages\\tensorflow_core\\python\\keras\\engine\\training_v2.py\u001b[0m in \u001b[0;36mrun_one_epoch\u001b[1;34m(model, iterator, execution_function, dataset_size, batch_size, strategy, steps_per_epoch, num_samples, mode, training_context, total_epochs)\u001b[0m\n\u001b[0;32m    126\u001b[0m         step=step, mode=mode, size=current_batch_size) as batch_logs:\n\u001b[0;32m    127\u001b[0m       \u001b[1;32mtry\u001b[0m\u001b[1;33m:\u001b[0m\u001b[1;33m\u001b[0m\u001b[1;33m\u001b[0m\u001b[0m\n\u001b[1;32m--> 128\u001b[1;33m         \u001b[0mbatch_outs\u001b[0m \u001b[1;33m=\u001b[0m \u001b[0mexecution_function\u001b[0m\u001b[1;33m(\u001b[0m\u001b[0miterator\u001b[0m\u001b[1;33m)\u001b[0m\u001b[1;33m\u001b[0m\u001b[1;33m\u001b[0m\u001b[0m\n\u001b[0m\u001b[0;32m    129\u001b[0m       \u001b[1;32mexcept\u001b[0m \u001b[1;33m(\u001b[0m\u001b[0mStopIteration\u001b[0m\u001b[1;33m,\u001b[0m \u001b[0merrors\u001b[0m\u001b[1;33m.\u001b[0m\u001b[0mOutOfRangeError\u001b[0m\u001b[1;33m)\u001b[0m\u001b[1;33m:\u001b[0m\u001b[1;33m\u001b[0m\u001b[1;33m\u001b[0m\u001b[0m\n\u001b[0;32m    130\u001b[0m         \u001b[1;31m# TODO(kaftan): File bug about tf function and errors.OutOfRangeError?\u001b[0m\u001b[1;33m\u001b[0m\u001b[1;33m\u001b[0m\u001b[1;33m\u001b[0m\u001b[0m\n",
      "\u001b[1;32m~\\Anaconda3\\lib\\site-packages\\tensorflow_core\\python\\keras\\engine\\training_v2_utils.py\u001b[0m in \u001b[0;36mexecution_function\u001b[1;34m(input_fn)\u001b[0m\n\u001b[0;32m     96\u001b[0m     \u001b[1;31m# `numpy` translates Tensors to values in Eager mode.\u001b[0m\u001b[1;33m\u001b[0m\u001b[1;33m\u001b[0m\u001b[1;33m\u001b[0m\u001b[0m\n\u001b[0;32m     97\u001b[0m     return nest.map_structure(_non_none_constant_value,\n\u001b[1;32m---> 98\u001b[1;33m                               distributed_function(input_fn))\n\u001b[0m\u001b[0;32m     99\u001b[0m \u001b[1;33m\u001b[0m\u001b[0m\n\u001b[0;32m    100\u001b[0m   \u001b[1;32mreturn\u001b[0m \u001b[0mexecution_function\u001b[0m\u001b[1;33m\u001b[0m\u001b[1;33m\u001b[0m\u001b[0m\n",
      "\u001b[1;32m~\\Anaconda3\\lib\\site-packages\\tensorflow_core\\python\\eager\\def_function.py\u001b[0m in \u001b[0;36m__call__\u001b[1;34m(self, *args, **kwds)\u001b[0m\n\u001b[0;32m    566\u001b[0m         \u001b[0mxla_context\u001b[0m\u001b[1;33m.\u001b[0m\u001b[0mExit\u001b[0m\u001b[1;33m(\u001b[0m\u001b[1;33m)\u001b[0m\u001b[1;33m\u001b[0m\u001b[1;33m\u001b[0m\u001b[0m\n\u001b[0;32m    567\u001b[0m     \u001b[1;32melse\u001b[0m\u001b[1;33m:\u001b[0m\u001b[1;33m\u001b[0m\u001b[1;33m\u001b[0m\u001b[0m\n\u001b[1;32m--> 568\u001b[1;33m       \u001b[0mresult\u001b[0m \u001b[1;33m=\u001b[0m \u001b[0mself\u001b[0m\u001b[1;33m.\u001b[0m\u001b[0m_call\u001b[0m\u001b[1;33m(\u001b[0m\u001b[1;33m*\u001b[0m\u001b[0margs\u001b[0m\u001b[1;33m,\u001b[0m \u001b[1;33m**\u001b[0m\u001b[0mkwds\u001b[0m\u001b[1;33m)\u001b[0m\u001b[1;33m\u001b[0m\u001b[1;33m\u001b[0m\u001b[0m\n\u001b[0m\u001b[0;32m    569\u001b[0m \u001b[1;33m\u001b[0m\u001b[0m\n\u001b[0;32m    570\u001b[0m     \u001b[1;32mif\u001b[0m \u001b[0mtracing_count\u001b[0m \u001b[1;33m==\u001b[0m \u001b[0mself\u001b[0m\u001b[1;33m.\u001b[0m\u001b[0m_get_tracing_count\u001b[0m\u001b[1;33m(\u001b[0m\u001b[1;33m)\u001b[0m\u001b[1;33m:\u001b[0m\u001b[1;33m\u001b[0m\u001b[1;33m\u001b[0m\u001b[0m\n",
      "\u001b[1;32m~\\Anaconda3\\lib\\site-packages\\tensorflow_core\\python\\eager\\def_function.py\u001b[0m in \u001b[0;36m_call\u001b[1;34m(self, *args, **kwds)\u001b[0m\n\u001b[0;32m    597\u001b[0m       \u001b[1;31m# In this case we have created variables on the first call, so we run the\u001b[0m\u001b[1;33m\u001b[0m\u001b[1;33m\u001b[0m\u001b[1;33m\u001b[0m\u001b[0m\n\u001b[0;32m    598\u001b[0m       \u001b[1;31m# defunned version which is guaranteed to never create variables.\u001b[0m\u001b[1;33m\u001b[0m\u001b[1;33m\u001b[0m\u001b[1;33m\u001b[0m\u001b[0m\n\u001b[1;32m--> 599\u001b[1;33m       \u001b[1;32mreturn\u001b[0m \u001b[0mself\u001b[0m\u001b[1;33m.\u001b[0m\u001b[0m_stateless_fn\u001b[0m\u001b[1;33m(\u001b[0m\u001b[1;33m*\u001b[0m\u001b[0margs\u001b[0m\u001b[1;33m,\u001b[0m \u001b[1;33m**\u001b[0m\u001b[0mkwds\u001b[0m\u001b[1;33m)\u001b[0m  \u001b[1;31m# pylint: disable=not-callable\u001b[0m\u001b[1;33m\u001b[0m\u001b[1;33m\u001b[0m\u001b[0m\n\u001b[0m\u001b[0;32m    600\u001b[0m     \u001b[1;32melif\u001b[0m \u001b[0mself\u001b[0m\u001b[1;33m.\u001b[0m\u001b[0m_stateful_fn\u001b[0m \u001b[1;32mis\u001b[0m \u001b[1;32mnot\u001b[0m \u001b[1;32mNone\u001b[0m\u001b[1;33m:\u001b[0m\u001b[1;33m\u001b[0m\u001b[1;33m\u001b[0m\u001b[0m\n\u001b[0;32m    601\u001b[0m       \u001b[1;31m# Release the lock early so that multiple threads can perform the call\u001b[0m\u001b[1;33m\u001b[0m\u001b[1;33m\u001b[0m\u001b[1;33m\u001b[0m\u001b[0m\n",
      "\u001b[1;32m~\\Anaconda3\\lib\\site-packages\\tensorflow_core\\python\\eager\\function.py\u001b[0m in \u001b[0;36m__call__\u001b[1;34m(self, *args, **kwargs)\u001b[0m\n\u001b[0;32m   2361\u001b[0m     \u001b[1;32mwith\u001b[0m \u001b[0mself\u001b[0m\u001b[1;33m.\u001b[0m\u001b[0m_lock\u001b[0m\u001b[1;33m:\u001b[0m\u001b[1;33m\u001b[0m\u001b[1;33m\u001b[0m\u001b[0m\n\u001b[0;32m   2362\u001b[0m       \u001b[0mgraph_function\u001b[0m\u001b[1;33m,\u001b[0m \u001b[0margs\u001b[0m\u001b[1;33m,\u001b[0m \u001b[0mkwargs\u001b[0m \u001b[1;33m=\u001b[0m \u001b[0mself\u001b[0m\u001b[1;33m.\u001b[0m\u001b[0m_maybe_define_function\u001b[0m\u001b[1;33m(\u001b[0m\u001b[0margs\u001b[0m\u001b[1;33m,\u001b[0m \u001b[0mkwargs\u001b[0m\u001b[1;33m)\u001b[0m\u001b[1;33m\u001b[0m\u001b[1;33m\u001b[0m\u001b[0m\n\u001b[1;32m-> 2363\u001b[1;33m     \u001b[1;32mreturn\u001b[0m \u001b[0mgraph_function\u001b[0m\u001b[1;33m.\u001b[0m\u001b[0m_filtered_call\u001b[0m\u001b[1;33m(\u001b[0m\u001b[0margs\u001b[0m\u001b[1;33m,\u001b[0m \u001b[0mkwargs\u001b[0m\u001b[1;33m)\u001b[0m  \u001b[1;31m# pylint: disable=protected-access\u001b[0m\u001b[1;33m\u001b[0m\u001b[1;33m\u001b[0m\u001b[0m\n\u001b[0m\u001b[0;32m   2364\u001b[0m \u001b[1;33m\u001b[0m\u001b[0m\n\u001b[0;32m   2365\u001b[0m   \u001b[1;33m@\u001b[0m\u001b[0mproperty\u001b[0m\u001b[1;33m\u001b[0m\u001b[1;33m\u001b[0m\u001b[0m\n",
      "\u001b[1;32m~\\Anaconda3\\lib\\site-packages\\tensorflow_core\\python\\eager\\function.py\u001b[0m in \u001b[0;36m_filtered_call\u001b[1;34m(self, args, kwargs)\u001b[0m\n\u001b[0;32m   1609\u001b[0m          if isinstance(t, (ops.Tensor,\n\u001b[0;32m   1610\u001b[0m                            resource_variable_ops.BaseResourceVariable))),\n\u001b[1;32m-> 1611\u001b[1;33m         self.captured_inputs)\n\u001b[0m\u001b[0;32m   1612\u001b[0m \u001b[1;33m\u001b[0m\u001b[0m\n\u001b[0;32m   1613\u001b[0m   \u001b[1;32mdef\u001b[0m \u001b[0m_call_flat\u001b[0m\u001b[1;33m(\u001b[0m\u001b[0mself\u001b[0m\u001b[1;33m,\u001b[0m \u001b[0margs\u001b[0m\u001b[1;33m,\u001b[0m \u001b[0mcaptured_inputs\u001b[0m\u001b[1;33m,\u001b[0m \u001b[0mcancellation_manager\u001b[0m\u001b[1;33m=\u001b[0m\u001b[1;32mNone\u001b[0m\u001b[1;33m)\u001b[0m\u001b[1;33m:\u001b[0m\u001b[1;33m\u001b[0m\u001b[1;33m\u001b[0m\u001b[0m\n",
      "\u001b[1;32m~\\Anaconda3\\lib\\site-packages\\tensorflow_core\\python\\eager\\function.py\u001b[0m in \u001b[0;36m_call_flat\u001b[1;34m(self, args, captured_inputs, cancellation_manager)\u001b[0m\n\u001b[0;32m   1690\u001b[0m       \u001b[1;31m# No tape is watching; skip to running the function.\u001b[0m\u001b[1;33m\u001b[0m\u001b[1;33m\u001b[0m\u001b[1;33m\u001b[0m\u001b[0m\n\u001b[0;32m   1691\u001b[0m       return self._build_call_outputs(self._inference_function.call(\n\u001b[1;32m-> 1692\u001b[1;33m           ctx, args, cancellation_manager=cancellation_manager))\n\u001b[0m\u001b[0;32m   1693\u001b[0m     forward_backward = self._select_forward_and_backward_functions(\n\u001b[0;32m   1694\u001b[0m         \u001b[0margs\u001b[0m\u001b[1;33m,\u001b[0m\u001b[1;33m\u001b[0m\u001b[1;33m\u001b[0m\u001b[0m\n",
      "\u001b[1;32m~\\Anaconda3\\lib\\site-packages\\tensorflow_core\\python\\eager\\function.py\u001b[0m in \u001b[0;36mcall\u001b[1;34m(self, ctx, args, cancellation_manager)\u001b[0m\n\u001b[0;32m    543\u001b[0m               \u001b[0minputs\u001b[0m\u001b[1;33m=\u001b[0m\u001b[0margs\u001b[0m\u001b[1;33m,\u001b[0m\u001b[1;33m\u001b[0m\u001b[1;33m\u001b[0m\u001b[0m\n\u001b[0;32m    544\u001b[0m               \u001b[0mattrs\u001b[0m\u001b[1;33m=\u001b[0m\u001b[1;33m(\u001b[0m\u001b[1;34m\"executor_type\"\u001b[0m\u001b[1;33m,\u001b[0m \u001b[0mexecutor_type\u001b[0m\u001b[1;33m,\u001b[0m \u001b[1;34m\"config_proto\"\u001b[0m\u001b[1;33m,\u001b[0m \u001b[0mconfig\u001b[0m\u001b[1;33m)\u001b[0m\u001b[1;33m,\u001b[0m\u001b[1;33m\u001b[0m\u001b[1;33m\u001b[0m\u001b[0m\n\u001b[1;32m--> 545\u001b[1;33m               ctx=ctx)\n\u001b[0m\u001b[0;32m    546\u001b[0m         \u001b[1;32melse\u001b[0m\u001b[1;33m:\u001b[0m\u001b[1;33m\u001b[0m\u001b[1;33m\u001b[0m\u001b[0m\n\u001b[0;32m    547\u001b[0m           outputs = execute.execute_with_cancellation(\n",
      "\u001b[1;32m~\\Anaconda3\\lib\\site-packages\\tensorflow_core\\python\\eager\\execute.py\u001b[0m in \u001b[0;36mquick_execute\u001b[1;34m(op_name, num_outputs, inputs, attrs, ctx, name)\u001b[0m\n\u001b[0;32m     59\u001b[0m     tensors = pywrap_tensorflow.TFE_Py_Execute(ctx._handle, device_name,\n\u001b[0;32m     60\u001b[0m                                                \u001b[0mop_name\u001b[0m\u001b[1;33m,\u001b[0m \u001b[0minputs\u001b[0m\u001b[1;33m,\u001b[0m \u001b[0mattrs\u001b[0m\u001b[1;33m,\u001b[0m\u001b[1;33m\u001b[0m\u001b[1;33m\u001b[0m\u001b[0m\n\u001b[1;32m---> 61\u001b[1;33m                                                num_outputs)\n\u001b[0m\u001b[0;32m     62\u001b[0m   \u001b[1;32mexcept\u001b[0m \u001b[0mcore\u001b[0m\u001b[1;33m.\u001b[0m\u001b[0m_NotOkStatusException\u001b[0m \u001b[1;32mas\u001b[0m \u001b[0me\u001b[0m\u001b[1;33m:\u001b[0m\u001b[1;33m\u001b[0m\u001b[1;33m\u001b[0m\u001b[0m\n\u001b[0;32m     63\u001b[0m     \u001b[1;32mif\u001b[0m \u001b[0mname\u001b[0m \u001b[1;32mis\u001b[0m \u001b[1;32mnot\u001b[0m \u001b[1;32mNone\u001b[0m\u001b[1;33m:\u001b[0m\u001b[1;33m\u001b[0m\u001b[1;33m\u001b[0m\u001b[0m\n",
      "\u001b[1;31mKeyboardInterrupt\u001b[0m: "
     ]
    }
   ],
   "source": [
    "K.clear_session()\n",
    "\n",
    "data_entrenamiento = './data/entrenamiento'\n",
    "data_validacion = './data/validacion'\n",
    "\n",
    "\n",
    "epocas=100\n",
    "longitud, altura = 224, 224\n",
    "batch_size = 20\n",
    "pasos = 100\n",
    "validation_steps = 100\n",
    "filtrosConv1 = 32\n",
    "filtrosConv2 = 64\n",
    "tamano_filtro1 = (3, 3)\n",
    "tamano_filtro2 = (2, 2)\n",
    "tamano_pool = (2, 2)\n",
    "clases = 20\n",
    "lr = 0.1\n",
    "\n",
    "\n",
    "##Preparamos nuestras imagenes\n",
    "\n",
    "entrenamiento_datagen = ImageDataGenerator(\n",
    "    rescale=1. / 255,\n",
    "    shear_range=0.2,\n",
    "    zoom_range=0.2,\n",
    "    horizontal_flip=True)\n",
    "\n",
    "test_datagen = ImageDataGenerator(rescale=1. / 255)\n",
    "\n",
    "entrenamiento_generador = entrenamiento_datagen.flow_from_directory(\n",
    "    data_entrenamiento,\n",
    "    target_size=(altura, longitud),\n",
    "    batch_size=batch_size,\n",
    "    class_mode='categorical')\n",
    "\n",
    "validacion_generador = test_datagen.flow_from_directory(\n",
    "    data_validacion,\n",
    "    target_size=(altura, longitud),\n",
    "    batch_size=batch_size,\n",
    "    class_mode='categorical')\n",
    "\n",
    "##CREAR LA RED VGG16\n",
    "\n",
    "cnn=modelo()\n",
    "\n",
    "cnn.compile(loss='categorical_crossentropy',\n",
    "            optimizer=tf.keras.optimizers.Adam(lr=lr),\n",
    "            metrics=['accuracy'])\n",
    "\n",
    "\n",
    "histoty=cnn.fit_generator(\n",
    "    entrenamiento_generador,\n",
    "    steps_per_epoch=pasos,\n",
    "    epochs=epocas,\n",
    "    validation_data=validacion_generador,\n",
    "    validation_steps=validation_steps)\n",
    "\n",
    "target_dir = './modelo/'\n",
    "if not os.path.exists(target_dir):\n",
    "  os.mkdir(target_dir)\n",
    "cnn.save('./modelo/modelo.h5')\n",
    "cnn.save_weights('./modelo/pesos.h5')"
   ]
  },
  {
   "cell_type": "code",
   "execution_count": null,
   "metadata": {
    "colab": {},
    "colab_type": "code",
    "id": "BSek6R86C1Oc"
   },
   "outputs": [],
   "source": [
    "histoty"
   ]
  },
  {
   "cell_type": "code",
   "execution_count": null,
   "metadata": {
    "colab": {},
    "colab_type": "code",
    "id": "86i6AD4S19df"
   },
   "outputs": [],
   "source": [
    "!pip install -U matplotlib\n",
    "import matplotlib.pyplot as plt\n",
    "import numpy as np"
   ]
  },
  {
   "cell_type": "code",
   "execution_count": null,
   "metadata": {
    "colab": {},
    "colab_type": "code",
    "id": "vuIoCm1cw6lZ"
   },
   "outputs": [],
   "source": [
    "plt.figure(0)  \n",
    "plt.plot(histoty.history['acc'],'r')  \n",
    "plt.plot(histoty.history['val_acc'],'g')  \n",
    "plt.xticks(np.arange(0, 21, 2.0))  \n",
    "plt.rcParams['figure.figsize'] = (8, 6)  \n",
    "plt.xlabel(\"Num of Epochs\")  \n",
    "plt.ylabel(\"Accuracy\")  \n",
    "plt.title(\"Training Accuracy vs Validation Accuracy\")  \n",
    "plt.legend(['train','validation'])\n",
    "\n",
    "plt.figure(1)  \n",
    "plt.plot(histoty.history['loss'],'r')  \n",
    "plt.plot(histoty.history['val_loss'],'g')  \n",
    "plt.xticks(np.arange(0, 21, 2.0))  \n",
    "plt.rcParams['figure.figsize'] = (8, 6)  \n",
    "plt.xlabel(\"Num of Epochs\")  \n",
    "plt.ylabel(\"Loss\")  \n",
    "plt.title(\"Training Loss vs Validation Loss\")  \n",
    "plt.legend(['train','validation'])\n",
    "\n",
    "plt.show()  "
   ]
  },
  {
   "cell_type": "code",
   "execution_count": null,
   "metadata": {
    "colab": {},
    "colab_type": "code",
    "id": "l8l8an4ivhIf"
   },
   "outputs": [],
   "source": [
    "\n",
    "import keras\n",
    "from keras.preprocessing.image import load_img, img_to_array\n",
    "from keras.models import load_model\n",
    "import tensorflow as tf \n",
    "longitud, altura = 224, 224#tamaño de la imagen\n",
    "modelo = './modelo/modelo.h5'#direccion del modelo\n",
    "pesos_modelo = './modelo/pesos.h5'#direccion de los pesos\n",
    "cnn = tf.keras.models.load_model(modelo)#cargar modelo\n",
    "cnn.load_weights(pesos_modelo)#cargar pesos\n",
    "#funcion de prediccion\n",
    "def predict(file):\n",
    "  x = tf.keras.preprocessing.image.load_img(file, target_size=(longitud, altura))#cargar la imagen\n",
    "  x = tf.keras.preprocessing.image.img_to_array(x)#tansformar imagen a arreglo\n",
    "  x = np.expand_dims(x, axis=0)#en el eje 0 se agrega una dimención extra para procesar la información sin problema\n",
    "  array = cnn.predict(x)#se llama a la red para realizar la predicción\n",
    "  result = array[0]#obtenemos el resultado\n",
    "  answer = np.argmax(result)#nos entrega el indice del valor mas alto\n",
    "  #clasificación del resultado\n",
    "  if answer == 0:\n",
    "    print(file+\" pred: 0\")\n",
    "  elif answer == 1:\n",
    "    print(file+\" pred: 1\")\n",
    "  elif answer == 2:\n",
    "    print(file+\" pred: 2\")\n",
    "  elif answer == 3:\n",
    "    print(file+\" pred: 3\")\n",
    "  elif answer == 4:\n",
    "    print(file+\" pred: 4\")\n",
    "  elif answer == 5:\n",
    "    print(file+\" pred: 5\")\n",
    "  elif answer == 6:\n",
    "    print(file+\" pred: 6\")\n",
    "  elif answer == 7:\n",
    "    print(file+\" pred: 7\")\n",
    "  elif answer == 8:\n",
    "    print(file+\" pred: 8\")\n",
    "  elif answer == 9:\n",
    "    print(file+\" pred: 9\")\n",
    "  elif answer == 10:\n",
    "    print(file+\" pred: 10\")\n",
    "  return answer"
   ]
  },
  {
   "cell_type": "code",
   "execution_count": 0,
   "metadata": {
    "colab": {},
    "colab_type": "code",
    "id": "64oZbuBUtaZm"
   },
   "outputs": [],
   "source": [
    "from google.colab import files"
   ]
  },
  {
   "cell_type": "code",
   "execution_count": 0,
   "metadata": {
    "colab": {},
    "colab_type": "code",
    "id": "78nAgkexUHEY"
   },
   "outputs": [],
   "source": []
  },
  {
   "cell_type": "code",
   "execution_count": 0,
   "metadata": {
    "colab": {},
    "colab_type": "code",
    "id": "Q03VSWI9thvM"
   },
   "outputs": [],
   "source": [
    "from os import scandir, getcwd\n",
    "def ls(ruta = getcwd()):\n",
    "    return [arch.name for arch in scandir(ruta) if arch.is_file()]"
   ]
  },
  {
   "cell_type": "code",
   "execution_count": 0,
   "metadata": {
    "colab": {},
    "colab_type": "code",
    "id": "JFJ6S9SyuqfC"
   },
   "outputs": [],
   "source": [
    "lista_arq = ls('./data/validacion/pan')   # no especificar ruta para tomar el directorio actual\n",
    "cont0=0\n",
    "cont1=0\n",
    "cont2=0\n",
    "cont3=0\n",
    "cont4=0\n",
    "cont5=0\n",
    "cont6=0\n",
    "cont7=0\n",
    "cont8=0\n",
    "cont9=0\n",
    "cont10=0\n",
    "for i in lista_arq:\n",
    "   p=predict('./data/validacion/pan/'+i)\n",
    "   if(p==0):\n",
    "     cont0=cont0+1\n",
    "   if(p==1):\n",
    "     cont1=cont1+1\n",
    "   if(p==2):\n",
    "     cont2=cont2+1\n",
    "   if(p==3):\n",
    "     cont3=cont3+1\n",
    "   if(p==4):\n",
    "     cont4=cont4+1\n",
    "   if(p==5):\n",
    "     cont5=cont5+1\n",
    "   if(p==6):\n",
    "     cont6=cont6+1\n",
    "   if(p==7):\n",
    "     cont7=cont7+1\n",
    "   if(p==8):\n",
    "     cont8=cont8+1\n",
    "   if(p==9):\n",
    "     cont9=cont9+1\n",
    "   if(p==10):\n",
    "     cont10=cont10+1\n",
    "print(100*cont0/len(lista_arq))\n",
    "print(100*cont1/len(lista_arq))\n",
    "print(100*cont2/len(lista_arq))\n",
    "print(100*cont3/len(lista_arq))\n",
    "print(100*cont4/len(lista_arq))\n",
    "print(100*cont5/len(lista_arq))\n",
    "print(100*cont6/len(lista_arq))\n",
    "print(100*cont7/len(lista_arq))\n",
    "print(100*cont8/len(lista_arq))\n",
    "print(100*cont9/len(lista_arq))\n",
    "print(100*cont10/len(lista_arq))"
   ]
  },
  {
   "cell_type": "code",
   "execution_count": 0,
   "metadata": {
    "colab": {},
    "colab_type": "code",
    "id": "R51N-Kvkut8N"
   },
   "outputs": [],
   "source": [
    "lista_arq = ls('./data/validacion/lacteo')   # no especificar ruta para tomar el directorio actual\n",
    "cont0=0\n",
    "cont1=0\n",
    "cont2=0\n",
    "cont3=0\n",
    "cont4=0\n",
    "cont5=0\n",
    "cont6=0\n",
    "cont7=0\n",
    "cont8=0\n",
    "cont9=0\n",
    "cont10=0\n",
    "for i in lista_arq:\n",
    "   p=predict('./data/validacion/lacteo/'+i)\n",
    "   if(p==0):\n",
    "     cont0=cont0+1\n",
    "   if(p==1):\n",
    "     cont1=cont1+1\n",
    "   if(p==2):\n",
    "     cont2=cont2+1\n",
    "   if(p==3):\n",
    "     cont3=cont3+1\n",
    "   if(p==4):\n",
    "     cont4=cont4+1\n",
    "   if(p==5):\n",
    "     cont5=cont5+1\n",
    "   if(p==6):\n",
    "     cont6=cont6+1\n",
    "   if(p==7):\n",
    "     cont7=cont7+1\n",
    "   if(p==8):\n",
    "     cont8=cont8+1\n",
    "   if(p==9):\n",
    "     cont9=cont9+1\n",
    "   if(p==10):\n",
    "     cont10=cont10+1\n",
    "print(100*cont0/len(lista_arq))\n",
    "print(100*cont1/len(lista_arq))\n",
    "print(100*cont2/len(lista_arq))\n",
    "print(100*cont3/len(lista_arq))\n",
    "print(100*cont4/len(lista_arq))\n",
    "print(100*cont5/len(lista_arq))\n",
    "print(100*cont6/len(lista_arq))\n",
    "print(100*cont7/len(lista_arq))\n",
    "print(100*cont8/len(lista_arq))\n",
    "print(100*cont9/len(lista_arq))\n",
    "print(100*cont10/len(lista_arq))\n"
   ]
  },
  {
   "cell_type": "code",
   "execution_count": 0,
   "metadata": {
    "colab": {},
    "colab_type": "code",
    "id": "_2ZndKKav-gf"
   },
   "outputs": [],
   "source": [
    "lista_arq = ls('./data/validacion/postre')   # no especificar ruta para tomar el directorio actual\n",
    "cont0=0\n",
    "cont1=0\n",
    "cont2=0\n",
    "cont3=0\n",
    "cont4=0\n",
    "cont5=0\n",
    "cont6=0\n",
    "cont7=0\n",
    "cont8=0\n",
    "cont9=0\n",
    "cont10=0\n",
    "for i in lista_arq:\n",
    "   p=predict('./data/validacion/postre/'+i)\n",
    "   if(p==0):\n",
    "     cont0=cont0+1\n",
    "   if(p==1):\n",
    "     cont1=cont1+1\n",
    "   if(p==2):\n",
    "     cont2=cont2+1\n",
    "   if(p==3):\n",
    "     cont3=cont3+1\n",
    "   if(p==4):\n",
    "     cont4=cont4+1\n",
    "   if(p==5):\n",
    "     cont5=cont5+1\n",
    "   if(p==6):\n",
    "     cont6=cont6+1\n",
    "   if(p==7):\n",
    "     cont7=cont7+1\n",
    "   if(p==8):\n",
    "     cont8=cont8+1\n",
    "   if(p==9):\n",
    "     cont9=cont9+1\n",
    "   if(p==10):\n",
    "     cont10=cont10+1\n",
    "print(100*cont0/len(lista_arq))\n",
    "print(100*cont1/len(lista_arq))\n",
    "print(100*cont2/len(lista_arq))\n",
    "print(100*cont3/len(lista_arq))\n",
    "print(100*cont4/len(lista_arq))\n",
    "print(100*cont5/len(lista_arq))\n",
    "print(100*cont6/len(lista_arq))\n",
    "print(100*cont7/len(lista_arq))\n",
    "print(100*cont8/len(lista_arq))\n",
    "print(100*cont9/len(lista_arq))\n",
    "print(100*cont10/len(lista_arq))"
   ]
  },
  {
   "cell_type": "code",
   "execution_count": 0,
   "metadata": {
    "colab": {},
    "colab_type": "code",
    "id": "X_5ht8ymOaVN"
   },
   "outputs": [],
   "source": [
    "lista_arq = ls('./data/validacion/huevos')   # no especificar ruta para tomar el directorio actual\n",
    "cont0=0\n",
    "cont1=0\n",
    "cont2=0\n",
    "cont3=0\n",
    "cont4=0\n",
    "cont5=0\n",
    "cont6=0\n",
    "cont7=0\n",
    "cont8=0\n",
    "cont9=0\n",
    "cont10=0\n",
    "for i in lista_arq:\n",
    "   p=predict('./data/validacion/huevos/'+i)\n",
    "   if(p==0):\n",
    "     cont0=cont0+1\n",
    "   if(p==1):\n",
    "     cont1=cont1+1\n",
    "   if(p==2):\n",
    "     cont2=cont2+1\n",
    "   if(p==3):\n",
    "     cont3=cont3+1\n",
    "   if(p==4):\n",
    "     cont4=cont4+1\n",
    "   if(p==5):\n",
    "     cont5=cont5+1\n",
    "   if(p==6):\n",
    "     cont6=cont6+1\n",
    "   if(p==7):\n",
    "     cont7=cont7+1\n",
    "   if(p==8):\n",
    "     cont8=cont8+1\n",
    "   if(p==9):\n",
    "     cont9=cont9+1\n",
    "   if(p==10):\n",
    "     cont10=cont10+1\n",
    "print(100*cont0/len(lista_arq))\n",
    "print(100*cont1/len(lista_arq))\n",
    "print(100*cont2/len(lista_arq))\n",
    "print(100*cont3/len(lista_arq))\n",
    "print(100*cont4/len(lista_arq))\n",
    "print(100*cont5/len(lista_arq))\n",
    "print(100*cont6/len(lista_arq))\n",
    "print(100*cont7/len(lista_arq))\n",
    "print(100*cont8/len(lista_arq))\n",
    "print(100*cont9/len(lista_arq))\n",
    "print(100*cont10/len(lista_arq))"
   ]
  },
  {
   "cell_type": "code",
   "execution_count": 0,
   "metadata": {
    "colab": {},
    "colab_type": "code",
    "id": "j4uxJnHIW1UU"
   },
   "outputs": [],
   "source": [
    "lista_arq = ls('./data/validacion/fritura')   # no especificar ruta para tomar el directorio actual\n",
    "cont0=0\n",
    "cont1=0\n",
    "cont2=0\n",
    "cont3=0\n",
    "cont4=0\n",
    "cont5=0\n",
    "cont6=0\n",
    "cont7=0\n",
    "cont8=0\n",
    "cont9=0\n",
    "cont10=0\n",
    "for i in lista_arq:\n",
    "   p=predict('./data/validacion/fritura/'+i)\n",
    "   if(p==0):\n",
    "     cont0=cont0+1\n",
    "   if(p==1):\n",
    "     cont1=cont1+1\n",
    "   if(p==2):\n",
    "     cont2=cont2+1\n",
    "   if(p==3):\n",
    "     cont3=cont3+1\n",
    "   if(p==4):\n",
    "     cont4=cont4+1\n",
    "   if(p==5):\n",
    "     cont5=cont5+1\n",
    "   if(p==6):\n",
    "     cont6=cont6+1\n",
    "   if(p==7):\n",
    "     cont7=cont7+1\n",
    "   if(p==8):\n",
    "     cont8=cont8+1\n",
    "   if(p==9):\n",
    "     cont9=cont9+1\n",
    "   if(p==10):\n",
    "     cont10=cont10+1\n",
    "print(100*cont0/len(lista_arq))\n",
    "print(100*cont1/len(lista_arq))\n",
    "print(100*cont2/len(lista_arq))\n",
    "print(100*cont3/len(lista_arq))\n",
    "print(100*cont4/len(lista_arq))\n",
    "print(100*cont5/len(lista_arq))\n",
    "print(100*cont6/len(lista_arq))\n",
    "print(100*cont7/len(lista_arq))\n",
    "print(100*cont8/len(lista_arq))\n",
    "print(100*cont9/len(lista_arq))\n",
    "print(100*cont10/len(lista_arq))"
   ]
  },
  {
   "cell_type": "code",
   "execution_count": 0,
   "metadata": {
    "colab": {},
    "colab_type": "code",
    "id": "4ksqwm6oW2sD"
   },
   "outputs": [],
   "source": [
    "lista_arq = ls('./data/validacion/carne')   # no especificar ruta para tomar el directorio actual\n",
    "cont0=0\n",
    "cont1=0\n",
    "cont2=0\n",
    "cont3=0\n",
    "cont4=0\n",
    "cont5=0\n",
    "cont6=0\n",
    "cont7=0\n",
    "cont8=0\n",
    "cont9=0\n",
    "cont10=0\n",
    "for i in lista_arq:\n",
    "   p=predict('./data/validacion/carne/'+i)\n",
    "   if(p==0):\n",
    "     cont0=cont0+1\n",
    "   if(p==1):\n",
    "     cont1=cont1+1\n",
    "   if(p==2):\n",
    "     cont2=cont2+1\n",
    "   if(p==3):\n",
    "     cont3=cont3+1\n",
    "   if(p==4):\n",
    "     cont4=cont4+1\n",
    "   if(p==5):\n",
    "     cont5=cont5+1\n",
    "   if(p==6):\n",
    "     cont6=cont6+1\n",
    "   if(p==7):\n",
    "     cont7=cont7+1\n",
    "   if(p==8):\n",
    "     cont8=cont8+1\n",
    "   if(p==9):\n",
    "     cont9=cont9+1\n",
    "   if(p==10):\n",
    "     cont10=cont10+1\n",
    "print(100*cont0/len(lista_arq))\n",
    "print(100*cont1/len(lista_arq))\n",
    "print(100*cont2/len(lista_arq))\n",
    "print(100*cont3/len(lista_arq))\n",
    "print(100*cont4/len(lista_arq))\n",
    "print(100*cont5/len(lista_arq))\n",
    "print(100*cont6/len(lista_arq))\n",
    "print(100*cont7/len(lista_arq))\n",
    "print(100*cont8/len(lista_arq))\n",
    "print(100*cont9/len(lista_arq))\n",
    "print(100*cont10/len(lista_arq))"
   ]
  },
  {
   "cell_type": "code",
   "execution_count": 0,
   "metadata": {
    "colab": {},
    "colab_type": "code",
    "id": "2gZaKHDiW3Lq"
   },
   "outputs": [],
   "source": [
    "lista_arq = ls('./data/validacion/pasta')   # no especificar ruta para tomar el directorio actual\n",
    "cont0=0\n",
    "cont1=0\n",
    "cont2=0\n",
    "cont3=0\n",
    "cont4=0\n",
    "cont5=0\n",
    "cont6=0\n",
    "cont7=0\n",
    "cont8=0\n",
    "cont9=0\n",
    "cont10=0\n",
    "for i in lista_arq:\n",
    "   p=predict('./data/validacion/pasta/'+i)\n",
    "   if(p==0):\n",
    "     cont0=cont0+1\n",
    "   if(p==1):\n",
    "     cont1=cont1+1\n",
    "   if(p==2):\n",
    "     cont2=cont2+1\n",
    "   if(p==3):\n",
    "     cont3=cont3+1\n",
    "   if(p==4):\n",
    "     cont4=cont4+1\n",
    "   if(p==5):\n",
    "     cont5=cont5+1\n",
    "   if(p==6):\n",
    "     cont6=cont6+1\n",
    "   if(p==7):\n",
    "     cont7=cont7+1\n",
    "   if(p==8):\n",
    "     cont8=cont8+1\n",
    "   if(p==9):\n",
    "     cont9=cont9+1\n",
    "   if(p==10):\n",
    "     cont10=cont10+1\n",
    "print(100*cont0/len(lista_arq))\n",
    "print(100*cont1/len(lista_arq))\n",
    "print(100*cont2/len(lista_arq))\n",
    "print(100*cont3/len(lista_arq))\n",
    "print(100*cont4/len(lista_arq))\n",
    "print(100*cont5/len(lista_arq))\n",
    "print(100*cont6/len(lista_arq))\n",
    "print(100*cont7/len(lista_arq))\n",
    "print(100*cont8/len(lista_arq))\n",
    "print(100*cont9/len(lista_arq))\n",
    "print(100*cont10/len(lista_arq))"
   ]
  },
  {
   "cell_type": "code",
   "execution_count": 0,
   "metadata": {
    "colab": {},
    "colab_type": "code",
    "id": "WWATv_jxW7oK"
   },
   "outputs": [],
   "source": [
    "lista_arq = ls('./data/validacion/arroz')   # no especificar ruta para tomar el directorio actual\n",
    "cont0=0\n",
    "cont1=0\n",
    "cont2=0\n",
    "cont3=0\n",
    "cont4=0\n",
    "cont5=0\n",
    "cont6=0\n",
    "cont7=0\n",
    "cont8=0\n",
    "cont9=0\n",
    "cont10=0\n",
    "for i in lista_arq:\n",
    "   p=predict('./data/validacion/arroz/'+i)\n",
    "   if(p==0):\n",
    "     cont0=cont0+1\n",
    "   if(p==1):\n",
    "     cont1=cont1+1\n",
    "   if(p==2):\n",
    "     cont2=cont2+1\n",
    "   if(p==3):\n",
    "     cont3=cont3+1\n",
    "   if(p==4):\n",
    "     cont4=cont4+1\n",
    "   if(p==5):\n",
    "     cont5=cont5+1\n",
    "   if(p==6):\n",
    "     cont6=cont6+1\n",
    "   if(p==7):\n",
    "     cont7=cont7+1\n",
    "   if(p==8):\n",
    "     cont8=cont8+1\n",
    "   if(p==9):\n",
    "     cont9=cont9+1\n",
    "   if(p==10):\n",
    "     cont10=cont10+1\n",
    "print(100*cont0/len(lista_arq))\n",
    "print(100*cont1/len(lista_arq))\n",
    "print(100*cont2/len(lista_arq))\n",
    "print(100*cont3/len(lista_arq))\n",
    "print(100*cont4/len(lista_arq))\n",
    "print(100*cont5/len(lista_arq))\n",
    "print(100*cont6/len(lista_arq))\n",
    "print(100*cont7/len(lista_arq))\n",
    "print(100*cont8/len(lista_arq))\n",
    "print(100*cont9/len(lista_arq))\n",
    "print(100*cont10/len(lista_arq))"
   ]
  },
  {
   "cell_type": "code",
   "execution_count": 0,
   "metadata": {
    "colab": {},
    "colab_type": "code",
    "id": "0lcHTlFJW8IX"
   },
   "outputs": [],
   "source": [
    "lista_arq = ls('./data/validacion/marisco')   # no especificar ruta para tomar el directorio actual\n",
    "cont0=0\n",
    "cont1=0\n",
    "cont2=0\n",
    "cont3=0\n",
    "cont4=0\n",
    "cont5=0\n",
    "cont6=0\n",
    "cont7=0\n",
    "cont8=0\n",
    "cont9=0\n",
    "cont10=0\n",
    "for i in lista_arq:\n",
    "   p=predict('./data/validacion/marisco/'+i)\n",
    "   if(p==0):\n",
    "     cont0=cont0+1\n",
    "   if(p==1):\n",
    "     cont1=cont1+1\n",
    "   if(p==2):\n",
    "     cont2=cont2+1\n",
    "   if(p==3):\n",
    "     cont3=cont3+1\n",
    "   if(p==4):\n",
    "     cont4=cont4+1\n",
    "   if(p==5):\n",
    "     cont5=cont5+1\n",
    "   if(p==6):\n",
    "     cont6=cont6+1\n",
    "   if(p==7):\n",
    "     cont7=cont7+1\n",
    "   if(p==8):\n",
    "     cont8=cont8+1\n",
    "   if(p==9):\n",
    "     cont9=cont9+1\n",
    "   if(p==10):\n",
    "     cont10=cont10+1\n",
    "print(100*cont0/len(lista_arq))\n",
    "print(100*cont1/len(lista_arq))\n",
    "print(100*cont2/len(lista_arq))\n",
    "print(100*cont3/len(lista_arq))\n",
    "print(100*cont4/len(lista_arq))\n",
    "print(100*cont5/len(lista_arq))\n",
    "print(100*cont6/len(lista_arq))\n",
    "print(100*cont7/len(lista_arq))\n",
    "print(100*cont8/len(lista_arq))\n",
    "print(100*cont9/len(lista_arq))\n",
    "print(100*cont10/len(lista_arq))"
   ]
  },
  {
   "cell_type": "code",
   "execution_count": 0,
   "metadata": {
    "colab": {},
    "colab_type": "code",
    "id": "otAfHo9PW8jU"
   },
   "outputs": [],
   "source": [
    "lista_arq = ls('./data/validacion/sopa')   # no especificar ruta para tomar el directorio actual\n",
    "cont0=0\n",
    "cont1=0\n",
    "cont2=0\n",
    "cont3=0\n",
    "cont4=0\n",
    "cont5=0\n",
    "cont6=0\n",
    "cont7=0\n",
    "cont8=0\n",
    "cont9=0\n",
    "cont10=0\n",
    "for i in lista_arq:\n",
    "   p=predict('./data/validacion/sopa/'+i)\n",
    "   if(p==0):\n",
    "     cont0=cont0+1\n",
    "   if(p==1):\n",
    "     cont1=cont1+1\n",
    "   if(p==2):\n",
    "     cont2=cont2+1\n",
    "   if(p==3):\n",
    "     cont3=cont3+1\n",
    "   if(p==4):\n",
    "     cont4=cont4+1\n",
    "   if(p==5):\n",
    "     cont5=cont5+1\n",
    "   if(p==6):\n",
    "     cont6=cont6+1\n",
    "   if(p==7):\n",
    "     cont7=cont7+1\n",
    "   if(p==8):\n",
    "     cont8=cont8+1\n",
    "   if(p==9):\n",
    "     cont9=cont9+1\n",
    "   if(p==10):\n",
    "     cont10=cont10+1\n",
    "print(100*cont0/len(lista_arq))\n",
    "print(100*cont1/len(lista_arq))\n",
    "print(100*cont2/len(lista_arq))\n",
    "print(100*cont3/len(lista_arq))\n",
    "print(100*cont4/len(lista_arq))\n",
    "print(100*cont5/len(lista_arq))\n",
    "print(100*cont6/len(lista_arq))\n",
    "print(100*cont7/len(lista_arq))\n",
    "print(100*cont8/len(lista_arq))\n",
    "print(100*cont9/len(lista_arq))\n",
    "print(100*cont10/len(lista_arq))"
   ]
  },
  {
   "cell_type": "code",
   "execution_count": 0,
   "metadata": {
    "colab": {},
    "colab_type": "code",
    "id": "50dqUPmrW87c"
   },
   "outputs": [],
   "source": [
    "lista_arq = ls('./data/validacion/frutaverdura')   # no especificar ruta para tomar el directorio actual\n",
    "cont0=0\n",
    "cont1=0\n",
    "cont2=0\n",
    "cont3=0\n",
    "cont4=0\n",
    "cont5=0\n",
    "cont6=0\n",
    "cont7=0\n",
    "cont8=0\n",
    "cont9=0\n",
    "cont10=0\n",
    "for i in lista_arq:\n",
    "   p=predict('./data/validacion/frutaverdura/'+i)\n",
    "   if(p==0):\n",
    "     cont0=cont0+1\n",
    "   if(p==1):\n",
    "     cont1=cont1+1\n",
    "   if(p==2):\n",
    "     cont2=cont2+1\n",
    "   if(p==3):\n",
    "     cont3=cont3+1\n",
    "   if(p==4):\n",
    "     cont4=cont4+1\n",
    "   if(p==5):\n",
    "     cont5=cont5+1\n",
    "   if(p==6):\n",
    "     cont6=cont6+1\n",
    "   if(p==7):\n",
    "     cont7=cont7+1\n",
    "   if(p==8):\n",
    "     cont8=cont8+1\n",
    "   if(p==9):\n",
    "     cont9=cont9+1\n",
    "   if(p==10):\n",
    "     cont10=cont10+1\n",
    "print(100*cont0/len(lista_arq))\n",
    "print(100*cont1/len(lista_arq))\n",
    "print(100*cont2/len(lista_arq))\n",
    "print(100*cont3/len(lista_arq))\n",
    "print(100*cont4/len(lista_arq))\n",
    "print(100*cont5/len(lista_arq))\n",
    "print(100*cont6/len(lista_arq))\n",
    "print(100*cont7/len(lista_arq))\n",
    "print(100*cont8/len(lista_arq))\n",
    "print(100*cont9/len(lista_arq))\n",
    "print(100*cont10/len(lista_arq))"
   ]
  },
  {
   "cell_type": "code",
   "execution_count": 0,
   "metadata": {
    "colab": {},
    "colab_type": "code",
    "id": "vjgkFKqQtcgH"
   },
   "outputs": [],
   "source": [
    "\n",
    "files.download('./modelo/modelo.h5')\n",
    "files.download('./modelo/pesos.h5')"
   ]
  },
  {
   "cell_type": "code",
   "execution_count": 0,
   "metadata": {
    "colab": {},
    "colab_type": "code",
    "id": "Zcdez3nAY9GT"
   },
   "outputs": [],
   "source": [
    "lista_arq = ls('./evaluation')   # no especificar ruta para tomar el directorio actual\n",
    "true=0\n",
    "\n",
    "for i in lista_arq:\n",
    "   p=predict('./evaluation/'+i)\n",
    "   if(str(p)==i[0]):\n",
    "     true=true+1\n",
    "print(100*true/len(lista_arq))"
   ]
  },
  {
   "cell_type": "code",
   "execution_count": 0,
   "metadata": {
    "colab": {},
    "colab_type": "code",
    "id": "Mp-oTAArq5v0"
   },
   "outputs": [],
   "source": []
  }
 ],
 "metadata": {
  "accelerator": "GPU",
  "colab": {
   "collapsed_sections": [],
   "name": "Clasificación de comida.ipynb",
   "provenance": []
  },
  "kernelspec": {
   "display_name": "Python 3",
   "language": "python",
   "name": "python3"
  }
 },
 "nbformat": 4,
 "nbformat_minor": 1
}
